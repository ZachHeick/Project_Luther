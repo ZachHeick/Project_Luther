{
 "cells": [
  {
   "cell_type": "markdown",
   "metadata": {},
   "source": [
    "Topic: Project 2    \n",
    "Subject: Scraping and Cleaning Other Movie Data  \n",
    "Date: 10/06/2017  \n",
    "Name: Zach Heick"
   ]
  },
  {
   "cell_type": "markdown",
   "metadata": {},
   "source": [
    "#### Order of Events\n",
    "  1. [Scraping Ebert Reviews](https://github.com/ZachHeick/Project_Luther/blob/master/Project_Notebooks/Project_Luther_Scraping_Ebert_Data.ipynb)\n",
    "  2. [Cleaning Ebert Data](https://github.com/ZachHeick/Project_Luther/blob/master/Project_Notebooks/Project_Luther_Cleaning_Ebert_Data.ipynb)\n",
    "  3. [Scraping and Cleaning Other Movie Data](https://github.com/ZachHeick/Project_Luther/blob/master/Project_Notebooks/Project_Luther_Scraping_Other_Data.ipynb)\n",
    "  4. [Exploring and Analyzing the Data](https://github.com/ZachHeick/Project_Luther/blob/master/Project_Notebooks/Project_Luther_EDA.ipynb)\n",
    "  5. [Building the Model](https://github.com/ZachHeick/Project_Luther/blob/master/Project_Notebooks/Project_Luther_Models.ipynb)"
   ]
  },
  {
   "cell_type": "code",
   "execution_count": 1,
   "metadata": {
    "collapsed": true
   },
   "outputs": [],
   "source": [
    "import pandas as pd\n",
    "import numpy as np\n",
    "import time\n",
    "import os\n",
    "import pickle\n",
    "import random"
   ]
  },
  {
   "cell_type": "code",
   "execution_count": 51,
   "metadata": {
    "collapsed": true
   },
   "outputs": [],
   "source": [
    "df = pd.read_pickle('roger_clean_no_other_data.pickle')"
   ]
  },
  {
   "cell_type": "markdown",
   "metadata": {},
   "source": [
    "The data I scraped from Ebert's review website was great, but I want to have other reviews to compare his to. I found some great datasets from MovieLens, a website that allows users to rate and review movies. The data was separated into three files: movies, ratings, and their IMDb IDs. I merge `movies.csv` and `ratings.csv` by `movieId` to get MovieLens' dataframe."
   ]
  },
  {
   "cell_type": "code",
   "execution_count": 53,
   "metadata": {
    "collapsed": true
   },
   "outputs": [],
   "source": [
    "movies_df = pd.read_csv('movies.csv')\n",
    "ratings_df = pd.read_csv('ratings.csv')\n",
    "ratings_df = ratings_df.groupby(['movieId']).mean()\n",
    "ratings_df.reset_index(inplace=True)"
   ]
  },
  {
   "cell_type": "code",
   "execution_count": 54,
   "metadata": {},
   "outputs": [
    {
     "data": {
      "text/html": [
       "<div>\n",
       "<style>\n",
       "    .dataframe thead tr:only-child th {\n",
       "        text-align: right;\n",
       "    }\n",
       "\n",
       "    .dataframe thead th {\n",
       "        text-align: left;\n",
       "    }\n",
       "\n",
       "    .dataframe tbody tr th {\n",
       "        vertical-align: top;\n",
       "    }\n",
       "</style>\n",
       "<table border=\"1\" class=\"dataframe\">\n",
       "  <thead>\n",
       "    <tr style=\"text-align: right;\">\n",
       "      <th></th>\n",
       "      <th>movieId</th>\n",
       "      <th>title</th>\n",
       "      <th>genres</th>\n",
       "      <th>userId</th>\n",
       "      <th>rating</th>\n",
       "      <th>timestamp</th>\n",
       "    </tr>\n",
       "  </thead>\n",
       "  <tbody>\n",
       "    <tr>\n",
       "      <th>0</th>\n",
       "      <td>1</td>\n",
       "      <td>Toy Story (1995)</td>\n",
       "      <td>Adventure|Animation|Children|Comedy|Fantasy</td>\n",
       "      <td>69282.396821</td>\n",
       "      <td>3.921240</td>\n",
       "      <td>1.052654e+09</td>\n",
       "    </tr>\n",
       "    <tr>\n",
       "      <th>1</th>\n",
       "      <td>2</td>\n",
       "      <td>Jumanji (1995)</td>\n",
       "      <td>Adventure|Children|Fantasy</td>\n",
       "      <td>69169.928202</td>\n",
       "      <td>3.211977</td>\n",
       "      <td>1.037616e+09</td>\n",
       "    </tr>\n",
       "    <tr>\n",
       "      <th>2</th>\n",
       "      <td>3</td>\n",
       "      <td>Grumpier Old Men (1995)</td>\n",
       "      <td>Comedy|Romance</td>\n",
       "      <td>69072.079388</td>\n",
       "      <td>3.151040</td>\n",
       "      <td>9.596480e+08</td>\n",
       "    </tr>\n",
       "    <tr>\n",
       "      <th>3</th>\n",
       "      <td>4</td>\n",
       "      <td>Waiting to Exhale (1995)</td>\n",
       "      <td>Comedy|Drama|Romance</td>\n",
       "      <td>69652.913280</td>\n",
       "      <td>2.861393</td>\n",
       "      <td>9.242144e+08</td>\n",
       "    </tr>\n",
       "    <tr>\n",
       "      <th>4</th>\n",
       "      <td>5</td>\n",
       "      <td>Father of the Bride Part II (1995)</td>\n",
       "      <td>Comedy</td>\n",
       "      <td>69113.475454</td>\n",
       "      <td>3.064592</td>\n",
       "      <td>9.620161e+08</td>\n",
       "    </tr>\n",
       "  </tbody>\n",
       "</table>\n",
       "</div>"
      ],
      "text/plain": [
       "   movieId                               title  \\\n",
       "0        1                    Toy Story (1995)   \n",
       "1        2                      Jumanji (1995)   \n",
       "2        3             Grumpier Old Men (1995)   \n",
       "3        4            Waiting to Exhale (1995)   \n",
       "4        5  Father of the Bride Part II (1995)   \n",
       "\n",
       "                                        genres        userId    rating  \\\n",
       "0  Adventure|Animation|Children|Comedy|Fantasy  69282.396821  3.921240   \n",
       "1                   Adventure|Children|Fantasy  69169.928202  3.211977   \n",
       "2                               Comedy|Romance  69072.079388  3.151040   \n",
       "3                         Comedy|Drama|Romance  69652.913280  2.861393   \n",
       "4                                       Comedy  69113.475454  3.064592   \n",
       "\n",
       "      timestamp  \n",
       "0  1.052654e+09  \n",
       "1  1.037616e+09  \n",
       "2  9.596480e+08  \n",
       "3  9.242144e+08  \n",
       "4  9.620161e+08  "
      ]
     },
     "execution_count": 54,
     "metadata": {},
     "output_type": "execute_result"
    }
   ],
   "source": [
    "movies_and_ratings_df = movies_df.merge(ratings_df, how = 'left', on = 'movieId')\n",
    "movies_and_ratings_df.head()"
   ]
  },
  {
   "cell_type": "markdown",
   "metadata": {},
   "source": [
    "`links.csv` contains movie IDs and their IMDb ID. I merge this with our previous dataframe."
   ]
  },
  {
   "cell_type": "code",
   "execution_count": 55,
   "metadata": {},
   "outputs": [
    {
     "data": {
      "text/html": [
       "<div>\n",
       "<style>\n",
       "    .dataframe thead tr:only-child th {\n",
       "        text-align: right;\n",
       "    }\n",
       "\n",
       "    .dataframe thead th {\n",
       "        text-align: left;\n",
       "    }\n",
       "\n",
       "    .dataframe tbody tr th {\n",
       "        vertical-align: top;\n",
       "    }\n",
       "</style>\n",
       "<table border=\"1\" class=\"dataframe\">\n",
       "  <thead>\n",
       "    <tr style=\"text-align: right;\">\n",
       "      <th></th>\n",
       "      <th>movieId</th>\n",
       "      <th>title</th>\n",
       "      <th>genres</th>\n",
       "      <th>userId</th>\n",
       "      <th>rating</th>\n",
       "      <th>timestamp</th>\n",
       "      <th>imdbId</th>\n",
       "      <th>tmdbId</th>\n",
       "    </tr>\n",
       "  </thead>\n",
       "  <tbody>\n",
       "    <tr>\n",
       "      <th>0</th>\n",
       "      <td>1</td>\n",
       "      <td>Toy Story (1995)</td>\n",
       "      <td>Adventure|Animation|Children|Comedy|Fantasy</td>\n",
       "      <td>69282.396821</td>\n",
       "      <td>3.921240</td>\n",
       "      <td>1.052654e+09</td>\n",
       "      <td>114709</td>\n",
       "      <td>862.0</td>\n",
       "    </tr>\n",
       "    <tr>\n",
       "      <th>1</th>\n",
       "      <td>2</td>\n",
       "      <td>Jumanji (1995)</td>\n",
       "      <td>Adventure|Children|Fantasy</td>\n",
       "      <td>69169.928202</td>\n",
       "      <td>3.211977</td>\n",
       "      <td>1.037616e+09</td>\n",
       "      <td>113497</td>\n",
       "      <td>8844.0</td>\n",
       "    </tr>\n",
       "    <tr>\n",
       "      <th>2</th>\n",
       "      <td>3</td>\n",
       "      <td>Grumpier Old Men (1995)</td>\n",
       "      <td>Comedy|Romance</td>\n",
       "      <td>69072.079388</td>\n",
       "      <td>3.151040</td>\n",
       "      <td>9.596480e+08</td>\n",
       "      <td>113228</td>\n",
       "      <td>15602.0</td>\n",
       "    </tr>\n",
       "    <tr>\n",
       "      <th>3</th>\n",
       "      <td>4</td>\n",
       "      <td>Waiting to Exhale (1995)</td>\n",
       "      <td>Comedy|Drama|Romance</td>\n",
       "      <td>69652.913280</td>\n",
       "      <td>2.861393</td>\n",
       "      <td>9.242144e+08</td>\n",
       "      <td>114885</td>\n",
       "      <td>31357.0</td>\n",
       "    </tr>\n",
       "    <tr>\n",
       "      <th>4</th>\n",
       "      <td>5</td>\n",
       "      <td>Father of the Bride Part II (1995)</td>\n",
       "      <td>Comedy</td>\n",
       "      <td>69113.475454</td>\n",
       "      <td>3.064592</td>\n",
       "      <td>9.620161e+08</td>\n",
       "      <td>113041</td>\n",
       "      <td>11862.0</td>\n",
       "    </tr>\n",
       "  </tbody>\n",
       "</table>\n",
       "</div>"
      ],
      "text/plain": [
       "   movieId                               title  \\\n",
       "0        1                    Toy Story (1995)   \n",
       "1        2                      Jumanji (1995)   \n",
       "2        3             Grumpier Old Men (1995)   \n",
       "3        4            Waiting to Exhale (1995)   \n",
       "4        5  Father of the Bride Part II (1995)   \n",
       "\n",
       "                                        genres        userId    rating  \\\n",
       "0  Adventure|Animation|Children|Comedy|Fantasy  69282.396821  3.921240   \n",
       "1                   Adventure|Children|Fantasy  69169.928202  3.211977   \n",
       "2                               Comedy|Romance  69072.079388  3.151040   \n",
       "3                         Comedy|Drama|Romance  69652.913280  2.861393   \n",
       "4                                       Comedy  69113.475454  3.064592   \n",
       "\n",
       "      timestamp  imdbId   tmdbId  \n",
       "0  1.052654e+09  114709    862.0  \n",
       "1  1.037616e+09  113497   8844.0  \n",
       "2  9.596480e+08  113228  15602.0  \n",
       "3  9.242144e+08  114885  31357.0  \n",
       "4  9.620161e+08  113041  11862.0  "
      ]
     },
     "execution_count": 55,
     "metadata": {},
     "output_type": "execute_result"
    }
   ],
   "source": [
    "link_df = pd.read_csv('links.csv')\n",
    "movies_ratings_links_df = movies_and_ratings_df.merge(link_df, how = 'left', on = 'movieId')\n",
    "movies_ratings_links_df.head()"
   ]
  },
  {
   "cell_type": "markdown",
   "metadata": {},
   "source": [
    "I remove the movie year from the `title` column and renamed it so it can be merged by `Title`."
   ]
  },
  {
   "cell_type": "code",
   "execution_count": 56,
   "metadata": {},
   "outputs": [
    {
     "data": {
      "text/html": [
       "<div>\n",
       "<style>\n",
       "    .dataframe thead tr:only-child th {\n",
       "        text-align: right;\n",
       "    }\n",
       "\n",
       "    .dataframe thead th {\n",
       "        text-align: left;\n",
       "    }\n",
       "\n",
       "    .dataframe tbody tr th {\n",
       "        vertical-align: top;\n",
       "    }\n",
       "</style>\n",
       "<table border=\"1\" class=\"dataframe\">\n",
       "  <thead>\n",
       "    <tr style=\"text-align: right;\">\n",
       "      <th></th>\n",
       "      <th>movieId</th>\n",
       "      <th>Title</th>\n",
       "      <th>genres</th>\n",
       "      <th>userId</th>\n",
       "      <th>rating</th>\n",
       "      <th>timestamp</th>\n",
       "      <th>imdbId</th>\n",
       "      <th>tmdbId</th>\n",
       "    </tr>\n",
       "  </thead>\n",
       "  <tbody>\n",
       "    <tr>\n",
       "      <th>0</th>\n",
       "      <td>1</td>\n",
       "      <td>Toy Story</td>\n",
       "      <td>Adventure|Animation|Children|Comedy|Fantasy</td>\n",
       "      <td>69282.396821</td>\n",
       "      <td>3.921240</td>\n",
       "      <td>1.052654e+09</td>\n",
       "      <td>114709</td>\n",
       "      <td>862.0</td>\n",
       "    </tr>\n",
       "    <tr>\n",
       "      <th>1</th>\n",
       "      <td>2</td>\n",
       "      <td>Jumanji</td>\n",
       "      <td>Adventure|Children|Fantasy</td>\n",
       "      <td>69169.928202</td>\n",
       "      <td>3.211977</td>\n",
       "      <td>1.037616e+09</td>\n",
       "      <td>113497</td>\n",
       "      <td>8844.0</td>\n",
       "    </tr>\n",
       "    <tr>\n",
       "      <th>2</th>\n",
       "      <td>3</td>\n",
       "      <td>Grumpier Old Men</td>\n",
       "      <td>Comedy|Romance</td>\n",
       "      <td>69072.079388</td>\n",
       "      <td>3.151040</td>\n",
       "      <td>9.596480e+08</td>\n",
       "      <td>113228</td>\n",
       "      <td>15602.0</td>\n",
       "    </tr>\n",
       "    <tr>\n",
       "      <th>3</th>\n",
       "      <td>4</td>\n",
       "      <td>Waiting to Exhale</td>\n",
       "      <td>Comedy|Drama|Romance</td>\n",
       "      <td>69652.913280</td>\n",
       "      <td>2.861393</td>\n",
       "      <td>9.242144e+08</td>\n",
       "      <td>114885</td>\n",
       "      <td>31357.0</td>\n",
       "    </tr>\n",
       "    <tr>\n",
       "      <th>4</th>\n",
       "      <td>5</td>\n",
       "      <td>Father of the Bride Part II</td>\n",
       "      <td>Comedy</td>\n",
       "      <td>69113.475454</td>\n",
       "      <td>3.064592</td>\n",
       "      <td>9.620161e+08</td>\n",
       "      <td>113041</td>\n",
       "      <td>11862.0</td>\n",
       "    </tr>\n",
       "  </tbody>\n",
       "</table>\n",
       "</div>"
      ],
      "text/plain": [
       "   movieId                        Title  \\\n",
       "0        1                    Toy Story   \n",
       "1        2                      Jumanji   \n",
       "2        3             Grumpier Old Men   \n",
       "3        4            Waiting to Exhale   \n",
       "4        5  Father of the Bride Part II   \n",
       "\n",
       "                                        genres        userId    rating  \\\n",
       "0  Adventure|Animation|Children|Comedy|Fantasy  69282.396821  3.921240   \n",
       "1                   Adventure|Children|Fantasy  69169.928202  3.211977   \n",
       "2                               Comedy|Romance  69072.079388  3.151040   \n",
       "3                         Comedy|Drama|Romance  69652.913280  2.861393   \n",
       "4                                       Comedy  69113.475454  3.064592   \n",
       "\n",
       "      timestamp  imdbId   tmdbId  \n",
       "0  1.052654e+09  114709    862.0  \n",
       "1  1.037616e+09  113497   8844.0  \n",
       "2  9.596480e+08  113228  15602.0  \n",
       "3  9.242144e+08  114885  31357.0  \n",
       "4  9.620161e+08  113041  11862.0  "
      ]
     },
     "execution_count": 56,
     "metadata": {},
     "output_type": "execute_result"
    }
   ],
   "source": [
    "movies_ratings_links_df['title'] = movies_ratings_links_df['title'].str.replace(r'\\(.*\\)','')\n",
    "movies_ratings_links_df['title'] = movies_ratings_links_df['title'].str.rstrip()\n",
    "final_df = movies_ratings_links_df.rename(columns = {'title': 'Title'})\n",
    "final_df.head()"
   ]
  },
  {
   "cell_type": "markdown",
   "metadata": {},
   "source": [
    "I finally merge our dataframe containing the review data from Roger Ebert with the dataframe from above to get a final, but unclean dataframe."
   ]
  },
  {
   "cell_type": "code",
   "execution_count": 57,
   "metadata": {},
   "outputs": [
    {
     "data": {
      "text/html": [
       "<div>\n",
       "<style>\n",
       "    .dataframe thead tr:only-child th {\n",
       "        text-align: right;\n",
       "    }\n",
       "\n",
       "    .dataframe thead th {\n",
       "        text-align: left;\n",
       "    }\n",
       "\n",
       "    .dataframe tbody tr th {\n",
       "        vertical-align: top;\n",
       "    }\n",
       "</style>\n",
       "<table border=\"1\" class=\"dataframe\">\n",
       "  <thead>\n",
       "    <tr style=\"text-align: right;\">\n",
       "      <th></th>\n",
       "      <th>Title</th>\n",
       "      <th>Year</th>\n",
       "      <th>Star_Score</th>\n",
       "      <th>Genre</th>\n",
       "      <th>Sub-genre</th>\n",
       "      <th>Rating</th>\n",
       "      <th>Runtime</th>\n",
       "      <th>movieId</th>\n",
       "      <th>genres</th>\n",
       "      <th>userId</th>\n",
       "      <th>rating</th>\n",
       "      <th>timestamp</th>\n",
       "      <th>imdbId</th>\n",
       "      <th>tmdbId</th>\n",
       "    </tr>\n",
       "  </thead>\n",
       "  <tbody>\n",
       "    <tr>\n",
       "      <th>0</th>\n",
       "      <td>Computer Chess</td>\n",
       "      <td>2013</td>\n",
       "      <td>2.0</td>\n",
       "      <td>Comedy</td>\n",
       "      <td>No Sub-genre</td>\n",
       "      <td>NR</td>\n",
       "      <td>91.0</td>\n",
       "      <td>104089.0</td>\n",
       "      <td>Comedy</td>\n",
       "      <td>66016.285714</td>\n",
       "      <td>3.214286</td>\n",
       "      <td>1.394806e+09</td>\n",
       "      <td>2007360.0</td>\n",
       "      <td>158743.0</td>\n",
       "    </tr>\n",
       "    <tr>\n",
       "      <th>1</th>\n",
       "      <td>At Any Price</td>\n",
       "      <td>2012</td>\n",
       "      <td>4.0</td>\n",
       "      <td>Drama</td>\n",
       "      <td>No Sub-genre</td>\n",
       "      <td>R</td>\n",
       "      <td>105.0</td>\n",
       "      <td>104947.0</td>\n",
       "      <td>Drama|Thriller</td>\n",
       "      <td>85298.500000</td>\n",
       "      <td>3.125000</td>\n",
       "      <td>1.387494e+09</td>\n",
       "      <td>1937449.0</td>\n",
       "      <td>121789.0</td>\n",
       "    </tr>\n",
       "    <tr>\n",
       "      <th>2</th>\n",
       "      <td>Blancanieves</td>\n",
       "      <td>2012</td>\n",
       "      <td>4.0</td>\n",
       "      <td>Drama</td>\n",
       "      <td>Fantasy</td>\n",
       "      <td>PG-13</td>\n",
       "      <td>104.0</td>\n",
       "      <td>NaN</td>\n",
       "      <td>NaN</td>\n",
       "      <td>NaN</td>\n",
       "      <td>NaN</td>\n",
       "      <td>NaN</td>\n",
       "      <td>NaN</td>\n",
       "      <td>NaN</td>\n",
       "    </tr>\n",
       "    <tr>\n",
       "      <th>3</th>\n",
       "      <td>To the Wonder</td>\n",
       "      <td>2013</td>\n",
       "      <td>3.5</td>\n",
       "      <td>Drama</td>\n",
       "      <td>Romance</td>\n",
       "      <td>R</td>\n",
       "      <td>112.0</td>\n",
       "      <td>101893.0</td>\n",
       "      <td>Drama|Romance</td>\n",
       "      <td>66415.957447</td>\n",
       "      <td>3.063830</td>\n",
       "      <td>1.389888e+09</td>\n",
       "      <td>1595656.0</td>\n",
       "      <td>60281.0</td>\n",
       "    </tr>\n",
       "    <tr>\n",
       "      <th>4</th>\n",
       "      <td>From Up on Poppy Hill</td>\n",
       "      <td>2013</td>\n",
       "      <td>2.5</td>\n",
       "      <td>Animation</td>\n",
       "      <td>Drama</td>\n",
       "      <td>PG</td>\n",
       "      <td>91.0</td>\n",
       "      <td>98604.0</td>\n",
       "      <td>Animation|Drama|Romance</td>\n",
       "      <td>71992.177215</td>\n",
       "      <td>3.696203</td>\n",
       "      <td>1.393080e+09</td>\n",
       "      <td>1798188.0</td>\n",
       "      <td>83389.0</td>\n",
       "    </tr>\n",
       "  </tbody>\n",
       "</table>\n",
       "</div>"
      ],
      "text/plain": [
       "                   Title  Year  Star_Score      Genre     Sub-genre Rating  \\\n",
       "0         Computer Chess  2013         2.0     Comedy  No Sub-genre     NR   \n",
       "1           At Any Price  2012         4.0      Drama  No Sub-genre      R   \n",
       "2           Blancanieves  2012         4.0      Drama       Fantasy  PG-13   \n",
       "3          To the Wonder  2013         3.5      Drama       Romance      R   \n",
       "4  From Up on Poppy Hill  2013         2.5  Animation         Drama     PG   \n",
       "\n",
       "   Runtime   movieId                   genres        userId    rating  \\\n",
       "0     91.0  104089.0                   Comedy  66016.285714  3.214286   \n",
       "1    105.0  104947.0           Drama|Thriller  85298.500000  3.125000   \n",
       "2    104.0       NaN                      NaN           NaN       NaN   \n",
       "3    112.0  101893.0            Drama|Romance  66415.957447  3.063830   \n",
       "4     91.0   98604.0  Animation|Drama|Romance  71992.177215  3.696203   \n",
       "\n",
       "      timestamp     imdbId    tmdbId  \n",
       "0  1.394806e+09  2007360.0  158743.0  \n",
       "1  1.387494e+09  1937449.0  121789.0  \n",
       "2           NaN        NaN       NaN  \n",
       "3  1.389888e+09  1595656.0   60281.0  \n",
       "4  1.393080e+09  1798188.0   83389.0  "
      ]
     },
     "execution_count": 57,
     "metadata": {},
     "output_type": "execute_result"
    }
   ],
   "source": [
    "roger_df = df.merge(final_df, how = 'left', on = 'Title')\n",
    "roger_df.head()"
   ]
  },
  {
   "cell_type": "markdown",
   "metadata": {},
   "source": [
    "I drop unnecessary columns. Any movie that has a MovieLens user review of `NaN` is dropped too."
   ]
  },
  {
   "cell_type": "code",
   "execution_count": 59,
   "metadata": {
    "collapsed": true
   },
   "outputs": [],
   "source": [
    "roger_df = roger_df.drop(['genres', 'userId', 'timestamp', 'tmdbId', 'movieId'], axis=1)"
   ]
  },
  {
   "cell_type": "code",
   "execution_count": 60,
   "metadata": {
    "collapsed": true
   },
   "outputs": [],
   "source": [
    "roger_df.dropna(subset=['rating'], how='any', inplace=True)"
   ]
  },
  {
   "cell_type": "code",
   "execution_count": 61,
   "metadata": {
    "collapsed": true
   },
   "outputs": [],
   "source": [
    "roger_df['imdbId'] = roger_df['imdbId'].astype(int).astype(str)\n",
    "roger_df.reset_index(inplace=True, drop=True)"
   ]
  },
  {
   "cell_type": "markdown",
   "metadata": {},
   "source": [
    "I have user reviews from MovieLens, but since the data came with IMDb review IDs, I want to use this data and scrape IMDb for their user ratings too."
   ]
  },
  {
   "cell_type": "code",
   "execution_count": 41,
   "metadata": {
    "collapsed": true
   },
   "outputs": [],
   "source": [
    "def get_imdb_data(movie_id):\n",
    "    \"\"\"\n",
    "    Scrapes IMDb.com for the users' movie rating.\n",
    "    :param movie_id: IMDb movie id\n",
    "    :return: the IMDb movie users' rating\n",
    "    \"\"\"\n",
    "    sleep_interval = random.randint(0,1)\n",
    "    time.sleep(sleep_interval)\n",
    "    url = 'http://www.imdb.com/title/tt' + movie_id\n",
    "    response = requests.get(url)\n",
    "    page = response.text\n",
    "    soup = BeautifulSoup(page,'html5lib')\n",
    "    \n",
    "    rating = soup.find(class_='ratingValue')\n",
    "    \n",
    "    if rating == None:\n",
    "        return np.nan\n",
    "    \n",
    "    return rating.text.split('/')[0].strip('\\n')"
   ]
  },
  {
   "cell_type": "markdown",
   "metadata": {},
   "source": [
    "IMDb.com is scraped for their movie ratings and the list is pickled and added to our main dataframe."
   ]
  },
  {
   "cell_type": "code",
   "execution_count": null,
   "metadata": {
    "collapsed": true
   },
   "outputs": [],
   "source": [
    "imdb_ratings = []\n",
    "for imdb_id in roger_df['imdbId']:\n",
    "    imdb_ratings.append(get_imdb_data(imdb_id))"
   ]
  },
  {
   "cell_type": "code",
   "execution_count": 67,
   "metadata": {
    "collapsed": true
   },
   "outputs": [],
   "source": [
    "with open('final_id_list.pickle', 'wb') as f:\n",
    "    pickle.dump(imdb_ratings, f)"
   ]
  },
  {
   "cell_type": "code",
   "execution_count": 68,
   "metadata": {
    "collapsed": true
   },
   "outputs": [],
   "source": [
    "roger_df['Imdb_Ratings'] = imdb_ratings"
   ]
  },
  {
   "cell_type": "code",
   "execution_count": 70,
   "metadata": {},
   "outputs": [
    {
     "data": {
      "text/html": [
       "<div>\n",
       "<style>\n",
       "    .dataframe thead tr:only-child th {\n",
       "        text-align: right;\n",
       "    }\n",
       "\n",
       "    .dataframe thead th {\n",
       "        text-align: left;\n",
       "    }\n",
       "\n",
       "    .dataframe tbody tr th {\n",
       "        vertical-align: top;\n",
       "    }\n",
       "</style>\n",
       "<table border=\"1\" class=\"dataframe\">\n",
       "  <thead>\n",
       "    <tr style=\"text-align: right;\">\n",
       "      <th></th>\n",
       "      <th>Title</th>\n",
       "      <th>Year</th>\n",
       "      <th>Star_Score</th>\n",
       "      <th>Genre</th>\n",
       "      <th>Sub-genre</th>\n",
       "      <th>Rating</th>\n",
       "      <th>Runtime</th>\n",
       "      <th>rating</th>\n",
       "      <th>imdbId</th>\n",
       "      <th>Imdb_Ratings</th>\n",
       "    </tr>\n",
       "  </thead>\n",
       "  <tbody>\n",
       "    <tr>\n",
       "      <th>1220</th>\n",
       "      <td>Blindness</td>\n",
       "      <td>2008</td>\n",
       "      <td>1.5</td>\n",
       "      <td>Science Fiction</td>\n",
       "      <td>Thriller</td>\n",
       "      <td>R</td>\n",
       "      <td>121.0</td>\n",
       "      <td>3.336914</td>\n",
       "      <td>861689</td>\n",
       "      <td>6.6</td>\n",
       "    </tr>\n",
       "    <tr>\n",
       "      <th>1133</th>\n",
       "      <td>Taken</td>\n",
       "      <td>2009</td>\n",
       "      <td>2.5</td>\n",
       "      <td>Action</td>\n",
       "      <td>Crime</td>\n",
       "      <td>PG-13</td>\n",
       "      <td>93.0</td>\n",
       "      <td>3.500000</td>\n",
       "      <td>289830</td>\n",
       "      <td>7.9</td>\n",
       "    </tr>\n",
       "    <tr>\n",
       "      <th>934</th>\n",
       "      <td>Good Hair</td>\n",
       "      <td>2009</td>\n",
       "      <td>3.0</td>\n",
       "      <td>Comedy</td>\n",
       "      <td>Documentary</td>\n",
       "      <td>PG-13</td>\n",
       "      <td>95.0</td>\n",
       "      <td>3.500000</td>\n",
       "      <td>1213585</td>\n",
       "      <td>6.9</td>\n",
       "    </tr>\n",
       "    <tr>\n",
       "      <th>2452</th>\n",
       "      <td>Ghosts of the Abyss</td>\n",
       "      <td>2003</td>\n",
       "      <td>3.0</td>\n",
       "      <td>Action</td>\n",
       "      <td>Documentary</td>\n",
       "      <td>G</td>\n",
       "      <td>59.0</td>\n",
       "      <td>3.240000</td>\n",
       "      <td>297144</td>\n",
       "      <td>6.9</td>\n",
       "    </tr>\n",
       "    <tr>\n",
       "      <th>4857</th>\n",
       "      <td>Single White Female</td>\n",
       "      <td>1992</td>\n",
       "      <td>3.0</td>\n",
       "      <td>Drama</td>\n",
       "      <td>Suspense</td>\n",
       "      <td>R</td>\n",
       "      <td>107.0</td>\n",
       "      <td>3.061184</td>\n",
       "      <td>105414</td>\n",
       "      <td>6.3</td>\n",
       "    </tr>\n",
       "  </tbody>\n",
       "</table>\n",
       "</div>"
      ],
      "text/plain": [
       "                    Title  Year  Star_Score            Genre    Sub-genre  \\\n",
       "1220            Blindness  2008         1.5  Science Fiction     Thriller   \n",
       "1133                Taken  2009         2.5           Action        Crime   \n",
       "934             Good Hair  2009         3.0           Comedy  Documentary   \n",
       "2452  Ghosts of the Abyss  2003         3.0           Action  Documentary   \n",
       "4857  Single White Female  1992         3.0            Drama     Suspense   \n",
       "\n",
       "     Rating  Runtime    rating   imdbId Imdb_Ratings  \n",
       "1220      R    121.0  3.336914   861689          6.6  \n",
       "1133  PG-13     93.0  3.500000   289830          7.9  \n",
       "934   PG-13     95.0  3.500000  1213585          6.9  \n",
       "2452      G     59.0  3.240000   297144          6.9  \n",
       "4857      R    107.0  3.061184   105414          6.3  "
      ]
     },
     "execution_count": 70,
     "metadata": {},
     "output_type": "execute_result"
    }
   ],
   "source": [
    "roger_df.sample(5)"
   ]
  },
  {
   "cell_type": "markdown",
   "metadata": {},
   "source": [
    "Any movies with an IMDb rating of `NaN` is dropped. The dataframe is pickled and ready to be analyzed."
   ]
  },
  {
   "cell_type": "code",
   "execution_count": 72,
   "metadata": {},
   "outputs": [
    {
     "name": "stdout",
     "output_type": "stream",
     "text": [
      "<class 'pandas.core.frame.DataFrame'>\n",
      "Int64Index: 4749 entries, 0 to 7064\n",
      "Data columns (total 10 columns):\n",
      "Title           4749 non-null object\n",
      "Year            4749 non-null int64\n",
      "Star_Score      4749 non-null float64\n",
      "Genre           4749 non-null object\n",
      "Sub-genre       4749 non-null object\n",
      "Rating          4749 non-null object\n",
      "Runtime         4749 non-null float64\n",
      "rating          4749 non-null float64\n",
      "imdbId          4749 non-null object\n",
      "Imdb_Ratings    4749 non-null object\n",
      "dtypes: float64(3), int64(1), object(6)\n",
      "memory usage: 408.1+ KB\n"
     ]
    }
   ],
   "source": [
    "roger_df.dropna(subset=['Imdb_Ratings'], how='any', inplace=True)\n",
    "roger_df.info()"
   ]
  },
  {
   "cell_type": "code",
   "execution_count": 74,
   "metadata": {
    "collapsed": true
   },
   "outputs": [],
   "source": [
    "roger_df.to_pickle('roger_final.pickle')"
   ]
  }
 ],
 "metadata": {
  "kernelspec": {
   "display_name": "Python [conda root]",
   "language": "python",
   "name": "conda-root-py"
  },
  "language_info": {
   "codemirror_mode": {
    "name": "ipython",
    "version": 3
   },
   "file_extension": ".py",
   "mimetype": "text/x-python",
   "name": "python",
   "nbconvert_exporter": "python",
   "pygments_lexer": "ipython3",
   "version": "3.6.2"
  }
 },
 "nbformat": 4,
 "nbformat_minor": 2
}
