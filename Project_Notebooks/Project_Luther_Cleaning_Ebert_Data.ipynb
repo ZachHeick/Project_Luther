{
 "cells": [
  {
   "cell_type": "markdown",
   "metadata": {},
   "source": [
    "Topic: Project 2    \n",
    "Subject: Cleaning Roger Ebert Review Data  \n",
    "Date: 10/06/2017  \n",
    "Name: Zach Heick"
   ]
  },
  {
   "cell_type": "code",
   "execution_count": 6,
   "metadata": {
    "collapsed": true
   },
   "outputs": [],
   "source": [
    "import pickle\n",
    "import pandas as pd\n",
    "import numpy as np"
   ]
  },
  {
   "cell_type": "code",
   "execution_count": 7,
   "metadata": {
    "collapsed": true
   },
   "outputs": [],
   "source": [
    "df = pd.read_pickle('roger.pickle')"
   ]
  },
  {
   "cell_type": "markdown",
   "metadata": {},
   "source": [
    "The blank spaces in the dataframe are empty strings. I need to decide whether I wanted to remove rows or fill in those empty cells with a value."
   ]
  },
  {
   "cell_type": "code",
   "execution_count": 8,
   "metadata": {},
   "outputs": [
    {
     "data": {
      "text/html": [
       "<div>\n",
       "<style>\n",
       "    .dataframe thead tr:only-child th {\n",
       "        text-align: right;\n",
       "    }\n",
       "\n",
       "    .dataframe thead th {\n",
       "        text-align: left;\n",
       "    }\n",
       "\n",
       "    .dataframe tbody tr th {\n",
       "        vertical-align: top;\n",
       "    }\n",
       "</style>\n",
       "<table border=\"1\" class=\"dataframe\">\n",
       "  <thead>\n",
       "    <tr style=\"text-align: right;\">\n",
       "      <th></th>\n",
       "      <th>Title</th>\n",
       "      <th>Year</th>\n",
       "      <th>Star_Score</th>\n",
       "      <th>Genre</th>\n",
       "      <th>Sub-genre</th>\n",
       "      <th>Rating</th>\n",
       "      <th>Runtime</th>\n",
       "    </tr>\n",
       "  </thead>\n",
       "  <tbody>\n",
       "    <tr>\n",
       "      <th>5843</th>\n",
       "      <td>The Clan Of The Cave Bear</td>\n",
       "      <td>1986</td>\n",
       "      <td>1.5</td>\n",
       "      <td>Adventure</td>\n",
       "      <td>Drama</td>\n",
       "      <td>R</td>\n",
       "      <td>98</td>\n",
       "    </tr>\n",
       "    <tr>\n",
       "      <th>4375</th>\n",
       "      <td>Tank Girl</td>\n",
       "      <td>1995</td>\n",
       "      <td>2.0</td>\n",
       "      <td>Action</td>\n",
       "      <td>Comedy</td>\n",
       "      <td>R</td>\n",
       "      <td>104</td>\n",
       "    </tr>\n",
       "    <tr>\n",
       "      <th>6117</th>\n",
       "      <td>Eddie Macon's Run</td>\n",
       "      <td>1983</td>\n",
       "      <td>2.0</td>\n",
       "      <td>Action</td>\n",
       "      <td>Adventure</td>\n",
       "      <td>PG</td>\n",
       "      <td>94</td>\n",
       "    </tr>\n",
       "    <tr>\n",
       "      <th>2043</th>\n",
       "      <td>Shark Tale</td>\n",
       "      <td>2004</td>\n",
       "      <td>2.0</td>\n",
       "      <td>Action</td>\n",
       "      <td>Animation</td>\n",
       "      <td>PG</td>\n",
       "      <td>90</td>\n",
       "    </tr>\n",
       "    <tr>\n",
       "      <th>4576</th>\n",
       "      <td>Threesome</td>\n",
       "      <td>1994</td>\n",
       "      <td>3.0</td>\n",
       "      <td>Comedy</td>\n",
       "      <td>Drama</td>\n",
       "      <td>R</td>\n",
       "      <td>93</td>\n",
       "    </tr>\n",
       "  </tbody>\n",
       "</table>\n",
       "</div>"
      ],
      "text/plain": [
       "                          Title  Year  Star_Score      Genre  Sub-genre  \\\n",
       "5843  The Clan Of The Cave Bear  1986         1.5  Adventure      Drama   \n",
       "4375                  Tank Girl  1995         2.0     Action     Comedy   \n",
       "6117          Eddie Macon's Run  1983         2.0     Action  Adventure   \n",
       "2043                 Shark Tale  2004         2.0     Action  Animation   \n",
       "4576                  Threesome  1994         3.0     Comedy      Drama   \n",
       "\n",
       "     Rating Runtime  \n",
       "5843      R      98  \n",
       "4375      R     104  \n",
       "6117     PG      94  \n",
       "2043     PG      90  \n",
       "4576      R      93  "
      ]
     },
     "execution_count": 8,
     "metadata": {},
     "output_type": "execute_result"
    }
   ],
   "source": [
    "df.sample(5)"
   ]
  },
  {
   "cell_type": "code",
   "execution_count": 9,
   "metadata": {},
   "outputs": [
    {
     "name": "stdout",
     "output_type": "stream",
     "text": [
      "<class 'pandas.core.frame.DataFrame'>\n",
      "RangeIndex: 7443 entries, 0 to 7442\n",
      "Data columns (total 7 columns):\n",
      "Title         7443 non-null object\n",
      "Year          7443 non-null object\n",
      "Star_Score    7443 non-null float64\n",
      "Genre         7443 non-null object\n",
      "Sub-genre     7443 non-null object\n",
      "Rating        7443 non-null object\n",
      "Runtime       7443 non-null object\n",
      "dtypes: float64(1), object(6)\n",
      "memory usage: 407.1+ KB\n"
     ]
    }
   ],
   "source": [
    "df.info()"
   ]
  },
  {
   "cell_type": "code",
   "execution_count": 10,
   "metadata": {},
   "outputs": [
    {
     "data": {
      "text/plain": [
       "2012    307\n",
       "2011    285\n",
       "2009    281\n",
       "2005    280\n",
       "2002    267\n",
       "2003    267\n",
       "2004    264\n",
       "2010    256\n",
       "1999    244\n",
       "2000    243\n",
       "1998    240\n",
       "1997    240\n",
       "2001    234\n",
       "1996    229\n",
       "1995    225\n",
       "2008    210\n",
       "1994    196\n",
       "1993    173\n",
       "2007    168\n",
       "1991    162\n",
       "1992    161\n",
       "1988    159\n",
       "2006    158\n",
       "1987    150\n",
       "1989    144\n",
       "1990    142\n",
       "1986    141\n",
       "1968    115\n",
       "1983    111\n",
       "1971    107\n",
       "1976    107\n",
       "1980    106\n",
       "1984    105\n",
       "1972     96\n",
       "1969     96\n",
       "1973     94\n",
       "1985     93\n",
       "1982     90\n",
       "1975     86\n",
       "1981     82\n",
       "1967     72\n",
       "1979     60\n",
       "1978     47\n",
       "1970     47\n",
       "1977     31\n",
       "1974     31\n",
       "2013     19\n",
       "1966      4\n",
       "          3\n",
       "1964      2\n",
       "1963      2\n",
       "1960      2\n",
       "1955      2\n",
       "1965      1\n",
       "1962      1\n",
       "1957      1\n",
       "1952      1\n",
       "1951      1\n",
       "1948      1\n",
       "1927      1\n",
       "Name: Year, dtype: int64"
      ]
     },
     "execution_count": 10,
     "metadata": {},
     "output_type": "execute_result"
    }
   ],
   "source": [
    "df['Year'].value_counts()"
   ]
  },
  {
   "cell_type": "markdown",
   "metadata": {},
   "source": [
    "There are only three movies that did not list a date, so I'll remove these rows."
   ]
  },
  {
   "cell_type": "code",
   "execution_count": 11,
   "metadata": {
    "collapsed": true
   },
   "outputs": [],
   "source": [
    "df.drop(df.index[df['Year'] == ''], inplace=True)"
   ]
  },
  {
   "cell_type": "markdown",
   "metadata": {},
   "source": [
    "Star score values look good, no need to clean that column."
   ]
  },
  {
   "cell_type": "code",
   "execution_count": 12,
   "metadata": {},
   "outputs": [
    {
     "data": {
      "text/plain": [
       "3.0    2340\n",
       "3.5    1248\n",
       "2.0    1229\n",
       "2.5     860\n",
       "4.0     810\n",
       "1.5     419\n",
       "1.0     385\n",
       "0.5      86\n",
       "0.0      63\n",
       "Name: Star_Score, dtype: int64"
      ]
     },
     "execution_count": 12,
     "metadata": {},
     "output_type": "execute_result"
    }
   ],
   "source": [
    "df['Star_Score'].value_counts()"
   ]
  },
  {
   "cell_type": "code",
   "execution_count": 13,
   "metadata": {},
   "outputs": [
    {
     "data": {
      "text/plain": [
       "Drama              1949\n",
       "Comedy             1915\n",
       "Action             1591\n",
       "                    827\n",
       "Documentary         356\n",
       "Crime               242\n",
       "Adventure           190\n",
       "Horror              134\n",
       "Animation            87\n",
       "Foreign              37\n",
       "Family               21\n",
       "Mystery              20\n",
       "Thriller             19\n",
       "Science Fiction      16\n",
       "Fantasy              10\n",
       "Suspense              7\n",
       "Music                 6\n",
       "Disaster              3\n",
       "Romance               3\n",
       "Western               3\n",
       "Erotic                2\n",
       "Indie                 1\n",
       "History               1\n",
       "Name: Genre, dtype: int64"
      ]
     },
     "execution_count": 13,
     "metadata": {},
     "output_type": "execute_result"
    }
   ],
   "source": [
    "df['Genre'].value_counts()"
   ]
  },
  {
   "cell_type": "code",
   "execution_count": 14,
   "metadata": {},
   "outputs": [
    {
     "data": {
      "text/plain": [
       "                   1716\n",
       "Drama              1488\n",
       "Foreign             751\n",
       "Adventure           660\n",
       "Romance             446\n",
       "Comedy              374\n",
       "Indie               294\n",
       "Family              289\n",
       "Crime               284\n",
       "Thriller            201\n",
       "Horror              154\n",
       "Mystery             137\n",
       "Fantasy             116\n",
       "Music                83\n",
       "History              76\n",
       "Science Fiction      75\n",
       "Animation            69\n",
       "Documentary          48\n",
       "Sports Film          41\n",
       "Suspense             39\n",
       "Musical              21\n",
       "Western              18\n",
       "Sport                17\n",
       "War                  10\n",
       "Disaster             10\n",
       "Erotic                6\n",
       "Holiday               5\n",
       "Eastern               5\n",
       "Road Movie            5\n",
       "Film Noir             1\n",
       "Short                 1\n",
       "Name: Sub-genre, dtype: int64"
      ]
     },
     "execution_count": 14,
     "metadata": {},
     "output_type": "execute_result"
    }
   ],
   "source": [
    "df['Sub-genre'].value_counts()"
   ]
  },
  {
   "cell_type": "code",
   "execution_count": 15,
   "metadata": {},
   "outputs": [
    {
     "data": {
      "text/plain": [
       "R               2913\n",
       "PG-13           1521\n",
       "PG              1118\n",
       "NR               918\n",
       "                 644\n",
       "G                209\n",
       "No                31\n",
       "Unrated           29\n",
       "NC-17             23\n",
       "X                 14\n",
       "Not               10\n",
       ":                  2\n",
       "PG-13&#8206;       1\n",
       "PG-                1\n",
       "g                  1\n",
       "PG13               1\n",
       "TV                 1\n",
       "R,                 1\n",
       ".                  1\n",
       "GP                 1\n",
       "Name: Rating, dtype: int64"
      ]
     },
     "execution_count": 15,
     "metadata": {},
     "output_type": "execute_result"
    }
   ],
   "source": [
    "df['Rating'].value_counts()"
   ]
  },
  {
   "cell_type": "markdown",
   "metadata": {},
   "source": [
    "`Genre`, `Sub-genre`, and `Rating` all have empty strings. To make replacing empty strings with other values easier , I use `NaN` as a placeholder."
   ]
  },
  {
   "cell_type": "code",
   "execution_count": 16,
   "metadata": {},
   "outputs": [
    {
     "name": "stdout",
     "output_type": "stream",
     "text": [
      "<class 'pandas.core.frame.DataFrame'>\n",
      "Int64Index: 7440 entries, 0 to 7442\n",
      "Data columns (total 7 columns):\n",
      "Title         7440 non-null object\n",
      "Year          7440 non-null int64\n",
      "Star_Score    7440 non-null float64\n",
      "Genre         6613 non-null object\n",
      "Sub-genre     5724 non-null object\n",
      "Rating        6796 non-null object\n",
      "Runtime       7034 non-null float64\n",
      "dtypes: float64(2), int64(1), object(4)\n",
      "memory usage: 465.0+ KB\n"
     ]
    }
   ],
   "source": [
    "df.replace(r'^\\s*$', np.nan, regex=True, inplace = True)\n",
    "df.info()"
   ]
  },
  {
   "cell_type": "markdown",
   "metadata": {},
   "source": [
    "Many movies do not have sub-genres which I feel is a valid assumption. Also, movies that do not list a specific genre where assumed to be equivalent to 'NR'."
   ]
  },
  {
   "cell_type": "code",
   "execution_count": 17,
   "metadata": {
    "collapsed": true
   },
   "outputs": [],
   "source": [
    "df['Sub-genre'].fillna('No Sub-genre', inplace=True)\n",
    "df['Rating'].fillna('NR', inplace=True)"
   ]
  },
  {
   "cell_type": "markdown",
   "metadata": {},
   "source": [
    "While scraping I got some weird characters for `Rating`. This could have been caused by some inconsistent HTML or labeling. I'll make a table of all movies that have one of these strange ratings and manually search what their rating is on Ebert's review site."
   ]
  },
  {
   "cell_type": "code",
   "execution_count": 18,
   "metadata": {},
   "outputs": [
    {
     "data": {
      "text/html": [
       "<div>\n",
       "<style>\n",
       "    .dataframe thead tr:only-child th {\n",
       "        text-align: right;\n",
       "    }\n",
       "\n",
       "    .dataframe thead th {\n",
       "        text-align: left;\n",
       "    }\n",
       "\n",
       "    .dataframe tbody tr th {\n",
       "        vertical-align: top;\n",
       "    }\n",
       "</style>\n",
       "<table border=\"1\" class=\"dataframe\">\n",
       "  <thead>\n",
       "    <tr style=\"text-align: right;\">\n",
       "      <th></th>\n",
       "      <th>Title</th>\n",
       "      <th>Year</th>\n",
       "      <th>Star_Score</th>\n",
       "      <th>Genre</th>\n",
       "      <th>Sub-genre</th>\n",
       "      <th>Rating</th>\n",
       "      <th>Runtime</th>\n",
       "    </tr>\n",
       "  </thead>\n",
       "  <tbody>\n",
       "    <tr>\n",
       "      <th>10</th>\n",
       "      <td>Phil Spector</td>\n",
       "      <td>2013</td>\n",
       "      <td>2.5</td>\n",
       "      <td>NaN</td>\n",
       "      <td>No Sub-genre</td>\n",
       "      <td>TV</td>\n",
       "      <td>92.0</td>\n",
       "    </tr>\n",
       "    <tr>\n",
       "      <th>3804</th>\n",
       "      <td>Fire</td>\n",
       "      <td>1997</td>\n",
       "      <td>3.0</td>\n",
       "      <td>Drama</td>\n",
       "      <td>Foreign</td>\n",
       "      <td>.</td>\n",
       "      <td>104.0</td>\n",
       "    </tr>\n",
       "    <tr>\n",
       "      <th>4063</th>\n",
       "      <td>A Very Brady Sequel</td>\n",
       "      <td>1996</td>\n",
       "      <td>2.5</td>\n",
       "      <td>Comedy</td>\n",
       "      <td>No Sub-genre</td>\n",
       "      <td>g</td>\n",
       "      <td>90.0</td>\n",
       "    </tr>\n",
       "    <tr>\n",
       "      <th>5172</th>\n",
       "      <td>Narrow Margin</td>\n",
       "      <td>1990</td>\n",
       "      <td>1.5</td>\n",
       "      <td>Action</td>\n",
       "      <td>Crime</td>\n",
       "      <td>:</td>\n",
       "      <td>97.0</td>\n",
       "    </tr>\n",
       "    <tr>\n",
       "      <th>5173</th>\n",
       "      <td>The Tall Guy</td>\n",
       "      <td>1990</td>\n",
       "      <td>3.5</td>\n",
       "      <td>Comedy</td>\n",
       "      <td>Romance</td>\n",
       "      <td>:</td>\n",
       "      <td>90.0</td>\n",
       "    </tr>\n",
       "    <tr>\n",
       "      <th>5289</th>\n",
       "      <td>Limit Up</td>\n",
       "      <td>1989</td>\n",
       "      <td>2.0</td>\n",
       "      <td>Comedy</td>\n",
       "      <td>Drama</td>\n",
       "      <td>PG-</td>\n",
       "      <td>89.0</td>\n",
       "    </tr>\n",
       "    <tr>\n",
       "      <th>7140</th>\n",
       "      <td>The Revolutionary</td>\n",
       "      <td>1970</td>\n",
       "      <td>4.0</td>\n",
       "      <td>NaN</td>\n",
       "      <td>No Sub-genre</td>\n",
       "      <td>GP</td>\n",
       "      <td>92.0</td>\n",
       "    </tr>\n",
       "  </tbody>\n",
       "</table>\n",
       "</div>"
      ],
      "text/plain": [
       "                    Title  Year  Star_Score   Genre     Sub-genre Rating  \\\n",
       "10           Phil Spector  2013         2.5     NaN  No Sub-genre     TV   \n",
       "3804                 Fire  1997         3.0   Drama       Foreign      .   \n",
       "4063  A Very Brady Sequel  1996         2.5  Comedy  No Sub-genre      g   \n",
       "5172        Narrow Margin  1990         1.5  Action         Crime      :   \n",
       "5173         The Tall Guy  1990         3.5  Comedy       Romance      :   \n",
       "5289             Limit Up  1989         2.0  Comedy         Drama    PG-   \n",
       "7140    The Revolutionary  1970         4.0     NaN  No Sub-genre     GP   \n",
       "\n",
       "      Runtime  \n",
       "10       92.0  \n",
       "3804    104.0  \n",
       "4063     90.0  \n",
       "5172     97.0  \n",
       "5173     90.0  \n",
       "5289     89.0  \n",
       "7140     92.0  "
      ]
     },
     "execution_count": 18,
     "metadata": {},
     "output_type": "execute_result"
    }
   ],
   "source": [
    "df[\n",
    "    (df['Rating'] == ':') |\n",
    "    (df['Rating'] == 'PG-') |\n",
    "    (df['Rating'] == '.') |\n",
    "    (df['Rating'] == 'TV') |\n",
    "    (df['Rating'] == 'g') |\n",
    "    (df['Rating'] == 'GP')\n",
    "]"
   ]
  },
  {
   "cell_type": "code",
   "execution_count": 19,
   "metadata": {
    "collapsed": true
   },
   "outputs": [],
   "source": [
    "df['Rating'].replace('No', 'NR', inplace=True)\n",
    "df['Rating'].replace('Not', 'NR', inplace=True)\n",
    "df['Rating'].replace(':', 'R', inplace=True)\n",
    "df['Rating'].replace('TV', 'NR', inplace=True)\n",
    "df['Rating'].replace('PG-', 'PG-13', inplace=True)\n",
    "df['Rating'].replace('.', 'NR', inplace=True)\n",
    "df['Rating'].replace('GP', 'PG', inplace=True)\n",
    "df['Rating'].replace('g', 'G', inplace=True)\n",
    "df['Rating'].replace('R,', 'R', inplace=True)\n",
    "df['Rating'].replace('PG-13&#8206;', 'PG-13', inplace=True)\n",
    "df['Rating'].replace('PG13', 'PG-13', inplace=True)"
   ]
  },
  {
   "cell_type": "markdown",
   "metadata": {},
   "source": [
    "The `Rating` column now contains valid MPAA ratings."
   ]
  },
  {
   "cell_type": "code",
   "execution_count": 20,
   "metadata": {},
   "outputs": [
    {
     "data": {
      "text/plain": [
       "R          2916\n",
       "NR         1605\n",
       "PG-13      1524\n",
       "PG         1119\n",
       "G           210\n",
       "Unrated      29\n",
       "NC-17        23\n",
       "X            14\n",
       "Name: Rating, dtype: int64"
      ]
     },
     "execution_count": 20,
     "metadata": {},
     "output_type": "execute_result"
    }
   ],
   "source": [
    "df['Rating'].value_counts()"
   ]
  },
  {
   "cell_type": "markdown",
   "metadata": {},
   "source": [
    "There were still some movies that did not have a genre, runtime, or both. I could not use these for my model so I drop these rows that were empty in one or both of these columns."
   ]
  },
  {
   "cell_type": "code",
   "execution_count": 18,
   "metadata": {
    "collapsed": true
   },
   "outputs": [],
   "source": [
    "df.dropna(subset=['Genre', 'Runtime'], how='any', inplace=True)"
   ]
  },
  {
   "cell_type": "code",
   "execution_count": 36,
   "metadata": {},
   "outputs": [
    {
     "name": "stdout",
     "output_type": "stream",
     "text": [
      "<class 'pandas.core.frame.DataFrame'>\n",
      "RangeIndex: 6509 entries, 0 to 6508\n",
      "Data columns (total 7 columns):\n",
      "Title         6509 non-null object\n",
      "Year          6509 non-null int64\n",
      "Star_Score    6509 non-null float64\n",
      "Genre         6509 non-null object\n",
      "Sub-genre     6509 non-null object\n",
      "Rating        6509 non-null object\n",
      "Runtime       6509 non-null float64\n",
      "dtypes: float64(2), int64(1), object(4)\n",
      "memory usage: 356.0+ KB\n"
     ]
    }
   ],
   "source": [
    "df.reset_index(drop=True, inplace=True)\n",
    "df.info()"
   ]
  },
  {
   "cell_type": "markdown",
   "metadata": {},
   "source": [
    "I pickle the cleaned dataframe into a new file. I now have a clean dataframe containing information about Roger Ebert's movie reviews, but I still wanted to explore data from other sources."
   ]
  },
  {
   "cell_type": "code",
   "execution_count": 35,
   "metadata": {
    "collapsed": true
   },
   "outputs": [],
   "source": [
    "df.to_pickle('roger_clean_no_other_data.pickle')"
   ]
  }
 ],
 "metadata": {
  "kernelspec": {
   "display_name": "Python [default]",
   "language": "python",
   "name": "python3"
  },
  "language_info": {
   "codemirror_mode": {
    "name": "ipython",
    "version": 3
   },
   "file_extension": ".py",
   "mimetype": "text/x-python",
   "name": "python",
   "nbconvert_exporter": "python",
   "pygments_lexer": "ipython3",
   "version": "3.6.2"
  }
 },
 "nbformat": 4,
 "nbformat_minor": 2
}
