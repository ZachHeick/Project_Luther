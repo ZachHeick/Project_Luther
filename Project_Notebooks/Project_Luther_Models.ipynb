{
 "cells": [
  {
   "cell_type": "markdown",
   "metadata": {},
   "source": [
    "Topic: Project 2    \n",
    "Subject: Building the Model    \n",
    "Date: 10/06/2017  \n",
    "Name: Zach Heick"
   ]
  },
  {
   "cell_type": "markdown",
   "metadata": {},
   "source": [
    "#### Order of Events\n",
    "  1. [Scraping Ebert Ratings](https://github.com/ZachHeick/Project_Luther/blob/master/Project_Notebooks/Project_Luther_Scraping_Ebert_Data.ipynb)\n",
    "  2. [Cleaning Ebert Data](https://github.com/ZachHeick/Project_Luther/blob/master/Project_Notebooks/Project_Luther_Cleaning_Ebert_Data.ipynb)\n",
    "  3. [Scraping and Cleaning Other Movie Data](https://github.com/ZachHeick/Project_Luther/blob/master/Project_Notebooks/Project_Luther_Scraping_Other_Data.ipynb)\n",
    "  4. [Exploring and Analyzing the Data](https://github.com/ZachHeick/Project_Luther/blob/master/Project_Notebooks/Project_Luther_EDA.ipynb)\n",
    "  5. [Building the Model](https://github.com/ZachHeick/Project_Luther/blob/master/Project_Notebooks/Project_Luther_Models.ipynb)"
   ]
  },
  {
   "cell_type": "code",
   "execution_count": 21,
   "metadata": {
    "collapsed": true
   },
   "outputs": [],
   "source": [
    "import pickle\n",
    "import pandas as pd\n",
    "import numpy as np\n",
    "import matplotlib.pyplot as plt\n",
    "import math\n",
    "from sklearn import linear_model\n",
    "from sklearn.model_selection import train_test_split\n",
    "from sklearn.cross_validation import cross_val_score\n",
    "from sklearn.linear_model import LinearRegression\n",
    "from sklearn.metrics import mean_squared_error\n",
    "\n",
    "%matplotlib inline"
   ]
  },
  {
   "cell_type": "code",
   "execution_count": 22,
   "metadata": {
    "collapsed": true
   },
   "outputs": [],
   "source": [
    "df = pd.read_pickle('roger_final_model_ready.pickle')"
   ]
  },
  {
   "cell_type": "markdown",
   "metadata": {},
   "source": [
    "Before I began modeling, I split the data up into training and test sets. "
   ]
  },
  {
   "cell_type": "code",
   "execution_count": 23,
   "metadata": {
    "collapsed": true
   },
   "outputs": [],
   "source": [
    "X = df.drop('Star_Score', axis=1)\n",
    "y = df['Star_Score']\n",
    "\n",
    "X_train, X_test, y_train, y_test = train_test_split(X, y, test_size=0.3, random_state=22)"
   ]
  },
  {
   "cell_type": "markdown",
   "metadata": {},
   "source": [
    "The features I start with are `MovieLens_Score` and `Imdb_Score`. I slowly add features that have either stronger positively correlation or stronger negatively correlation until I was I get to an Adjusted R-squared value that is best."
   ]
  },
  {
   "cell_type": "code",
   "execution_count": 24,
   "metadata": {},
   "outputs": [
    {
     "data": {
      "text/html": [
       "<table class=\"simpletable\">\n",
       "<caption>OLS Regression Results</caption>\n",
       "<tr>\n",
       "  <th>Dep. Variable:</th>       <td>Star_Score</td>    <th>  R-squared:         </th> <td>   0.938</td>\n",
       "</tr>\n",
       "<tr>\n",
       "  <th>Model:</th>                   <td>OLS</td>       <th>  Adj. R-squared:    </th> <td>   0.938</td>\n",
       "</tr>\n",
       "<tr>\n",
       "  <th>Method:</th>             <td>Least Squares</td>  <th>  F-statistic:       </th> <td>   2773.</td>\n",
       "</tr>\n",
       "<tr>\n",
       "  <th>Date:</th>             <td>Sat, 07 Oct 2017</td> <th>  Prob (F-statistic):</th>  <td>  0.00</td> \n",
       "</tr>\n",
       "<tr>\n",
       "  <th>Time:</th>                 <td>16:11:18</td>     <th>  Log-Likelihood:    </th> <td> -3639.5</td>\n",
       "</tr>\n",
       "<tr>\n",
       "  <th>No. Observations:</th>      <td>  3324</td>      <th>  AIC:               </th> <td>   7315.</td>\n",
       "</tr>\n",
       "<tr>\n",
       "  <th>Df Residuals:</th>          <td>  3306</td>      <th>  BIC:               </th> <td>   7425.</td>\n",
       "</tr>\n",
       "<tr>\n",
       "  <th>Df Model:</th>              <td>    18</td>      <th>                     </th>     <td> </td>   \n",
       "</tr>\n",
       "<tr>\n",
       "  <th>Covariance Type:</th>      <td>nonrobust</td>    <th>                     </th>     <td> </td>   \n",
       "</tr>\n",
       "</table>\n",
       "<table class=\"simpletable\">\n",
       "<tr>\n",
       "             <td></td>               <th>coef</th>     <th>std err</th>      <th>t</th>      <th>P>|t|</th>  <th>[0.025</th>    <th>0.975]</th>  \n",
       "</tr>\n",
       "<tr>\n",
       "  <th>Runtime</th>                <td>    0.0022</td> <td>    0.001</td> <td>    3.814</td> <td> 0.000</td> <td>    0.001</td> <td>    0.003</td>\n",
       "</tr>\n",
       "<tr>\n",
       "  <th>MovieLens_Score</th>        <td>    0.3283</td> <td>    0.049</td> <td>    6.736</td> <td> 0.000</td> <td>    0.233</td> <td>    0.424</td>\n",
       "</tr>\n",
       "<tr>\n",
       "  <th>Imdb_Score</th>             <td>    0.2005</td> <td>    0.025</td> <td>    7.998</td> <td> 0.000</td> <td>    0.151</td> <td>    0.250</td>\n",
       "</tr>\n",
       "<tr>\n",
       "  <th>Genre_Animation</th>        <td>    0.5713</td> <td>    0.115</td> <td>    4.964</td> <td> 0.000</td> <td>    0.346</td> <td>    0.797</td>\n",
       "</tr>\n",
       "<tr>\n",
       "  <th>Genre_Comedy</th>           <td>    0.1859</td> <td>    0.035</td> <td>    5.358</td> <td> 0.000</td> <td>    0.118</td> <td>    0.254</td>\n",
       "</tr>\n",
       "<tr>\n",
       "  <th>Genre_Crime</th>            <td>    0.2508</td> <td>    0.070</td> <td>    3.576</td> <td> 0.000</td> <td>    0.113</td> <td>    0.388</td>\n",
       "</tr>\n",
       "<tr>\n",
       "  <th>Genre_Documentary</th>      <td>    0.4258</td> <td>    0.070</td> <td>    6.072</td> <td> 0.000</td> <td>    0.288</td> <td>    0.563</td>\n",
       "</tr>\n",
       "<tr>\n",
       "  <th>Genre_Drama</th>            <td>    0.3861</td> <td>    0.036</td> <td>   10.688</td> <td> 0.000</td> <td>    0.315</td> <td>    0.457</td>\n",
       "</tr>\n",
       "<tr>\n",
       "  <th>Genre_Family</th>           <td>    0.4924</td> <td>    0.298</td> <td>    1.650</td> <td> 0.099</td> <td>   -0.093</td> <td>    1.077</td>\n",
       "</tr>\n",
       "<tr>\n",
       "  <th>Genre_Music</th>            <td>    0.9433</td> <td>    0.515</td> <td>    1.832</td> <td> 0.067</td> <td>   -0.066</td> <td>    1.953</td>\n",
       "</tr>\n",
       "<tr>\n",
       "  <th>Genre_Thriller</th>         <td>    0.6729</td> <td>    0.235</td> <td>    2.867</td> <td> 0.004</td> <td>    0.213</td> <td>    1.133</td>\n",
       "</tr>\n",
       "<tr>\n",
       "  <th>Sub_Genre_Animation</th>    <td>    0.4110</td> <td>    0.140</td> <td>    2.938</td> <td> 0.003</td> <td>    0.137</td> <td>    0.685</td>\n",
       "</tr>\n",
       "<tr>\n",
       "  <th>Sub_Genre_Comedy</th>       <td>   -0.1640</td> <td>    0.059</td> <td>   -2.802</td> <td> 0.005</td> <td>   -0.279</td> <td>   -0.049</td>\n",
       "</tr>\n",
       "<tr>\n",
       "  <th>Sub_Genre_Family</th>       <td>   -0.1028</td> <td>    0.061</td> <td>   -1.673</td> <td> 0.094</td> <td>   -0.223</td> <td>    0.018</td>\n",
       "</tr>\n",
       "<tr>\n",
       "  <th>Sub_Genre_Fantasy</th>      <td>   -0.2435</td> <td>    0.092</td> <td>   -2.658</td> <td> 0.008</td> <td>   -0.423</td> <td>   -0.064</td>\n",
       "</tr>\n",
       "<tr>\n",
       "  <th>Sub_Genre_Horror</th>       <td>   -0.2751</td> <td>    0.085</td> <td>   -3.233</td> <td> 0.001</td> <td>   -0.442</td> <td>   -0.108</td>\n",
       "</tr>\n",
       "<tr>\n",
       "  <th>Sub_Genre_No Sub-genre</th> <td>   -0.1821</td> <td>    0.044</td> <td>   -4.145</td> <td> 0.000</td> <td>   -0.268</td> <td>   -0.096</td>\n",
       "</tr>\n",
       "<tr>\n",
       "  <th>Sub_Genre_Romance</th>      <td>   -0.1850</td> <td>    0.050</td> <td>   -3.701</td> <td> 0.000</td> <td>   -0.283</td> <td>   -0.087</td>\n",
       "</tr>\n",
       "</table>\n",
       "<table class=\"simpletable\">\n",
       "<tr>\n",
       "  <th>Omnibus:</th>       <td>205.617</td> <th>  Durbin-Watson:     </th> <td>   2.032</td>\n",
       "</tr>\n",
       "<tr>\n",
       "  <th>Prob(Omnibus):</th> <td> 0.000</td>  <th>  Jarque-Bera (JB):  </th> <td> 246.278</td>\n",
       "</tr>\n",
       "<tr>\n",
       "  <th>Skew:</th>          <td>-0.626</td>  <th>  Prob(JB):          </th> <td>3.32e-54</td>\n",
       "</tr>\n",
       "<tr>\n",
       "  <th>Kurtosis:</th>      <td> 3.458</td>  <th>  Cond. No.          </th> <td>4.49e+03</td>\n",
       "</tr>\n",
       "</table>"
      ],
      "text/plain": [
       "<class 'statsmodels.iolib.summary.Summary'>\n",
       "\"\"\"\n",
       "                            OLS Regression Results                            \n",
       "==============================================================================\n",
       "Dep. Variable:             Star_Score   R-squared:                       0.938\n",
       "Model:                            OLS   Adj. R-squared:                  0.938\n",
       "Method:                 Least Squares   F-statistic:                     2773.\n",
       "Date:                Sat, 07 Oct 2017   Prob (F-statistic):               0.00\n",
       "Time:                        16:11:18   Log-Likelihood:                -3639.5\n",
       "No. Observations:                3324   AIC:                             7315.\n",
       "Df Residuals:                    3306   BIC:                             7425.\n",
       "Df Model:                          18                                         \n",
       "Covariance Type:            nonrobust                                         \n",
       "==========================================================================================\n",
       "                             coef    std err          t      P>|t|      [0.025      0.975]\n",
       "------------------------------------------------------------------------------------------\n",
       "Runtime                    0.0022      0.001      3.814      0.000       0.001       0.003\n",
       "MovieLens_Score            0.3283      0.049      6.736      0.000       0.233       0.424\n",
       "Imdb_Score                 0.2005      0.025      7.998      0.000       0.151       0.250\n",
       "Genre_Animation            0.5713      0.115      4.964      0.000       0.346       0.797\n",
       "Genre_Comedy               0.1859      0.035      5.358      0.000       0.118       0.254\n",
       "Genre_Crime                0.2508      0.070      3.576      0.000       0.113       0.388\n",
       "Genre_Documentary          0.4258      0.070      6.072      0.000       0.288       0.563\n",
       "Genre_Drama                0.3861      0.036     10.688      0.000       0.315       0.457\n",
       "Genre_Family               0.4924      0.298      1.650      0.099      -0.093       1.077\n",
       "Genre_Music                0.9433      0.515      1.832      0.067      -0.066       1.953\n",
       "Genre_Thriller             0.6729      0.235      2.867      0.004       0.213       1.133\n",
       "Sub_Genre_Animation        0.4110      0.140      2.938      0.003       0.137       0.685\n",
       "Sub_Genre_Comedy          -0.1640      0.059     -2.802      0.005      -0.279      -0.049\n",
       "Sub_Genre_Family          -0.1028      0.061     -1.673      0.094      -0.223       0.018\n",
       "Sub_Genre_Fantasy         -0.2435      0.092     -2.658      0.008      -0.423      -0.064\n",
       "Sub_Genre_Horror          -0.2751      0.085     -3.233      0.001      -0.442      -0.108\n",
       "Sub_Genre_No Sub-genre    -0.1821      0.044     -4.145      0.000      -0.268      -0.096\n",
       "Sub_Genre_Romance         -0.1850      0.050     -3.701      0.000      -0.283      -0.087\n",
       "==============================================================================\n",
       "Omnibus:                      205.617   Durbin-Watson:                   2.032\n",
       "Prob(Omnibus):                  0.000   Jarque-Bera (JB):              246.278\n",
       "Skew:                          -0.626   Prob(JB):                     3.32e-54\n",
       "Kurtosis:                       3.458   Cond. No.                     4.49e+03\n",
       "==============================================================================\n",
       "\n",
       "Warnings:\n",
       "[1] Standard Errors assume that the covariance matrix of the errors is correctly specified.\n",
       "[2] The condition number is large, 4.49e+03. This might indicate that there are\n",
       "strong multicollinearity or other numerical problems.\n",
       "\"\"\""
      ]
     },
     "execution_count": 24,
     "metadata": {},
     "output_type": "execute_result"
    }
   ],
   "source": [
    "X_1 = X_train[[\n",
    "    'Runtime',\n",
    "    'MovieLens_Score',\n",
    "    'Imdb_Score',\n",
    "    'Genre_Animation',\n",
    "    'Genre_Comedy',\n",
    "    'Genre_Crime',\n",
    "    'Genre_Documentary',\n",
    "    'Genre_Drama',\n",
    "    'Genre_Family',\n",
    "    'Genre_Music',\n",
    "    'Genre_Thriller',\n",
    "    'Sub_Genre_Animation',\n",
    "    'Sub_Genre_Comedy',\n",
    "    'Sub_Genre_Family',\n",
    "    'Sub_Genre_Fantasy',\n",
    "    'Sub_Genre_Horror',\n",
    "    'Sub_Genre_No Sub-genre',\n",
    "    'Sub_Genre_Romance'\n",
    "]]\n",
    "model = sm.OLS(y_train, X_1)\n",
    "model_fit = model.fit()\n",
    "model_fit.summary()"
   ]
  },
  {
   "cell_type": "markdown",
   "metadata": {},
   "source": [
    "I couldn't just rely on the adjusted R-squared value for measuring my model. I also need to look at the distribution of residuals to make sure the model is capturing all trends across the whole set of training data. A normal distribution of the model's residuals indicates this."
   ]
  },
  {
   "cell_type": "code",
   "execution_count": 25,
   "metadata": {},
   "outputs": [
    {
     "data": {
      "image/png": "[encoded data removed]",
      "text/plain": [
       "<matplotlib.figure.Figure at 0x1189d1d68>"
      ]
     },
     "metadata": {},
     "output_type": "display_data"
    }
   ],
   "source": [
    "plt.hist(model_fit.resid)\n",
    "plt.title('Distribution of Star Score Residuals (Train)', fontsize=18)\n",
    "plt.xlabel('Star Score Residuals', fontsize=12)\n",
    "plt.ylabel('Distribution', fontsize=12);"
   ]
  },
  {
   "cell_type": "markdown",
   "metadata": {},
   "source": [
    "To see if the model is performing consistently across the whole set of data, I'll use cross validation."
   ]
  },
  {
   "cell_type": "code",
   "execution_count": 26,
   "metadata": {},
   "outputs": [
    {
     "data": {
      "text/plain": [
       "0.72226231809560981"
      ]
     },
     "execution_count": 26,
     "metadata": {},
     "output_type": "execute_result"
    }
   ],
   "source": [
    "# in-sample\n",
    "in_lr = linear_model.LinearRegression()\n",
    "in_lr.fit(X_1, y_train)\n",
    "y_pred_in = in_lr.predict(X_1)\n",
    "np.sqrt(mean_squared_error(y_train, y_pred_in))"
   ]
  },
  {
   "cell_type": "code",
   "execution_count": 27,
   "metadata": {},
   "outputs": [
    {
     "data": {
      "text/plain": [
       "0.72765779235285288"
      ]
     },
     "execution_count": 27,
     "metadata": {},
     "output_type": "execute_result"
    }
   ],
   "source": [
    "# out-of-sample\n",
    "out_lr = linear_model.LinearRegression()\n",
    "out_scores = cross_val_score(out_lr, X_1, y_train, scoring='neg_mean_squared_error', cv = 5) * -1\n",
    "np.sqrt(out_scores.mean())"
   ]
  },
  {
   "cell_type": "markdown",
   "metadata": {},
   "source": [
    "I get a slightly higher root mean squared error on the out-of-sample data than the in-sample data. This means that the model generalizes the data well. I am now ready to test the model on the test set."
   ]
  },
  {
   "cell_type": "code",
   "execution_count": 28,
   "metadata": {},
   "outputs": [
    {
     "data": {
      "text/plain": [
       "0.73038467520542849"
      ]
     },
     "execution_count": 28,
     "metadata": {},
     "output_type": "execute_result"
    }
   ],
   "source": [
    "X_test_final = X_test[[\n",
    "    'Runtime',\n",
    "    'MovieLens_Score',\n",
    "    'Imdb_Score',\n",
    "    'Genre_Animation',\n",
    "    'Genre_Comedy',\n",
    "    'Genre_Crime',\n",
    "    'Genre_Documentary',\n",
    "    'Genre_Drama',\n",
    "    'Genre_Family',\n",
    "    'Genre_Music',\n",
    "    'Genre_Thriller',\n",
    "    'Sub_Genre_Animation',\n",
    "    'Sub_Genre_Comedy',\n",
    "    'Sub_Genre_Family',\n",
    "    'Sub_Genre_Fantasy',\n",
    "    'Sub_Genre_Horror',\n",
    "    'Sub_Genre_No Sub-genre',\n",
    "    'Sub_Genre_Romance'\n",
    "]]\n",
    "y_pred_test = model_fit.predict(X_test_final)\n",
    "np.sqrt(mean_squared_error(y_test, y_pred_test))"
   ]
  },
  {
   "cell_type": "markdown",
   "metadata": {},
   "source": [
    "I get a final root mean squared error of 0.73, meaning my model's predictions are off by slightly more than a half star rating. Looking at the model visualization, this model loses some accuracy as Ebert's rating decreases. Even at the higher ratings, the model does not perform terribly, but it could definately be improved."
   ]
  },
  {
   "cell_type": "code",
   "execution_count": 29,
   "metadata": {},
   "outputs": [
    {
     "data": {
      "image/png": "[encoded data removed]",
      "text/plain": [
       "<matplotlib.figure.Figure at 0x118a07358>"
      ]
     },
     "metadata": {},
     "output_type": "display_data"
    }
   ],
   "source": [
    "plt.figure(figsize=(5,5))\n",
    "plt.scatter(y_pred_test, y_test, alpha=0.2)\n",
    "plt.plot([0,4], [0,4], 'r')\n",
    "plt.title('Roger Ebert Scores vs. Predicted Scores', fontsize=14)\n",
    "plt.xlabel('Predicted Star Score', fontsize=12)\n",
    "plt.ylabel('Roger Ebert Star Score', fontsize=12);"
   ]
  },
  {
   "cell_type": "markdown",
   "metadata": {},
   "source": [
    "Now that the model is finished, I get some recent movies and plug their values into the model to get a predicted rating out of four stars."
   ]
  },
  {
   "cell_type": "code",
   "execution_count": 30,
   "metadata": {},
   "outputs": [
    {
     "name": "stdout",
     "output_type": "stream",
     "text": [
      "Dunkirk: 3.60841243622\n",
      "The Emoji Movie: 1.39077104703\n",
      "La La Land: 3.17212552595\n",
      "Mad Max Fury Road: 3.81645480448\n"
     ]
    }
   ],
   "source": [
    "Dunkirk = np.array([106,3.98,8.4,0,0,0,0,1,0,0,0,0,0,0,0,0,0,0])\n",
    "Emoji_Movie = np.array([86,1.08,2.2,1,0,0,0,0,0,0,0,0,1,0,0,0,0,0])\n",
    "La_La_Land = np.array([128,3.80,8.2,0,1,0,0,0,0,0,0,0,0,0,0,0,0,1])\n",
    "Mad_Max_Fury_Road = np.array([120,3.83,8.1,0,0,0,0,0,0,0,1,0,0,0,0,0,0,0])\n",
    "print('Dunkirk:', model_fit.predict(Dunkirk)[0])\n",
    "print('The Emoji Movie:', model_fit.predict(Emoji_Movie)[0])\n",
    "print('La La Land:', model_fit.predict(La_La_Land)[0])\n",
    "print('Mad Max Fury Road:', model_fit.predict(Mad_Max_Fury_Road)[0])"
   ]
  }
 ],
 "metadata": {
  "kernelspec": {
   "display_name": "Python [default]",
   "language": "python",
   "name": "python3"
  },
  "language_info": {
   "codemirror_mode": {
    "name": "ipython",
    "version": 3
   },
   "file_extension": ".py",
   "mimetype": "text/x-python",
   "name": "python",
   "nbconvert_exporter": "python",
   "pygments_lexer": "ipython3",
   "version": "3.6.2"
  }
 },
 "nbformat": 4,
 "nbformat_minor": 2
}
