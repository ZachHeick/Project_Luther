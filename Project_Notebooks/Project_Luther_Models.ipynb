{
 "cells": [
  {
   "cell_type": "markdown",
   "metadata": {},
   "source": [
    "Topic: Project 2    \n",
    "Subject: Building the Model    \n",
    "Date: 10/06/2017  \n",
    "Name: Zach Heick"
   ]
  },
  {
   "cell_type": "markdown",
   "metadata": {},
   "source": [
    "#### Order of Events\n",
    "  1. [Scraping Ebert Ratings](https://github.com/ZachHeick/Project_Luther/blob/master/Project_Notebooks/Project_Luther_Scraping_Ebert_Data.ipynb)\n",
    "  2. [Cleaning Ebert Data](https://github.com/ZachHeick/Project_Luther/blob/master/Project_Notebooks/Project_Luther_Cleaning_Ebert_Data.ipynb)\n",
    "  3. [Scraping and Cleaning Other Movie Data](https://github.com/ZachHeick/Project_Luther/blob/master/Project_Notebooks/Project_Luther_Scraping_Other_Data.ipynb)\n",
    "  4. [Exploring and Analyzing the Data](https://github.com/ZachHeick/Project_Luther/blob/master/Project_Notebooks/Project_Luther_EDA.ipynb)\n",
    "  5. [Building the Model](https://github.com/ZachHeick/Project_Luther/blob/master/Project_Notebooks/Project_Luther_Models.ipynb)"
   ]
  },
  {
   "cell_type": "code",
   "execution_count": 20,
   "metadata": {},
   "outputs": [],
   "source": [
    "import pickle\n",
    "import pandas as pd\n",
    "import numpy as np\n",
    "import matplotlib.pyplot as plt\n",
    "import math\n",
    "import statsmodels.api as sm\n",
    "from sklearn import linear_model\n",
    "from sklearn.model_selection import train_test_split\n",
    "from sklearn.cross_validation import cross_val_score\n",
    "from sklearn.linear_model import LinearRegression\n",
    "from sklearn.metrics import mean_squared_error\n",
    "\n",
    "%matplotlib inline"
   ]
  },
  {
   "cell_type": "code",
   "execution_count": 21,
   "metadata": {
    "collapsed": true
   },
   "outputs": [],
   "source": [
    "df = pd.read_pickle('roger_final_model_ready.pickle')"
   ]
  },
  {
   "cell_type": "markdown",
   "metadata": {},
   "source": [
    "Before I began modeling, I split the data up into training and test sets. "
   ]
  },
  {
   "cell_type": "code",
   "execution_count": 22,
   "metadata": {
    "collapsed": true
   },
   "outputs": [],
   "source": [
    "X = df.drop('Star_Score', axis=1)\n",
    "y = df['Star_Score']\n",
    "\n",
    "X_train, X_test, y_train, y_test = train_test_split(X, y, test_size=0.3, random_state=22)"
   ]
  },
  {
   "cell_type": "markdown",
   "metadata": {},
   "source": [
    "The features I start with are `MovieLens_Score` and `Imdb_Score`. I slowly add features that have either stronger positively correlation or stronger negatively correlation until I was I get to an Adjusted R-squared value that is best."
   ]
  },
  {
   "cell_type": "code",
   "execution_count": 30,
   "metadata": {},
   "outputs": [
    {
     "data": {
      "text/html": [
       "<table class=\"simpletable\">\n",
       "<caption>OLS Regression Results</caption>\n",
       "<tr>\n",
       "  <th>Dep. Variable:</th>       <td>Star_Score</td>    <th>  R-squared:         </th> <td>   0.939</td>\n",
       "</tr>\n",
       "<tr>\n",
       "  <th>Model:</th>                   <td>OLS</td>       <th>  Adj. R-squared:    </th> <td>   0.938</td>\n",
       "</tr>\n",
       "<tr>\n",
       "  <th>Method:</th>             <td>Least Squares</td>  <th>  F-statistic:       </th> <td>   2812.</td>\n",
       "</tr>\n",
       "<tr>\n",
       "  <th>Date:</th>             <td>Sun, 08 Oct 2017</td> <th>  Prob (F-statistic):</th>  <td>  0.00</td> \n",
       "</tr>\n",
       "<tr>\n",
       "  <th>Time:</th>                 <td>22:10:23</td>     <th>  Log-Likelihood:    </th> <td> -3618.6</td>\n",
       "</tr>\n",
       "<tr>\n",
       "  <th>No. Observations:</th>      <td>  3324</td>      <th>  AIC:               </th> <td>   7273.</td>\n",
       "</tr>\n",
       "<tr>\n",
       "  <th>Df Residuals:</th>          <td>  3306</td>      <th>  BIC:               </th> <td>   7383.</td>\n",
       "</tr>\n",
       "<tr>\n",
       "  <th>Df Model:</th>              <td>    18</td>      <th>                     </th>     <td> </td>   \n",
       "</tr>\n",
       "<tr>\n",
       "  <th>Covariance Type:</th>      <td>nonrobust</td>    <th>                     </th>     <td> </td>   \n",
       "</tr>\n",
       "</table>\n",
       "<table class=\"simpletable\">\n",
       "<tr>\n",
       "             <td></td>               <th>coef</th>     <th>std err</th>      <th>t</th>      <th>P>|t|</th>  <th>[0.025</th>    <th>0.975]</th>  \n",
       "</tr>\n",
       "<tr>\n",
       "  <th>Runtime</th>                <td>    0.0023</td> <td>    0.001</td> <td>    3.992</td> <td> 0.000</td> <td>    0.001</td> <td>    0.003</td>\n",
       "</tr>\n",
       "<tr>\n",
       "  <th>MovieLens_Score</th>        <td>    0.3710</td> <td>    0.047</td> <td>    7.848</td> <td> 0.000</td> <td>    0.278</td> <td>    0.464</td>\n",
       "</tr>\n",
       "<tr>\n",
       "  <th>Imdb_Score</th>             <td>    0.1843</td> <td>    0.024</td> <td>    7.593</td> <td> 0.000</td> <td>    0.137</td> <td>    0.232</td>\n",
       "</tr>\n",
       "<tr>\n",
       "  <th>Genre_Animation</th>        <td>    0.4843</td> <td>    0.115</td> <td>    4.212</td> <td> 0.000</td> <td>    0.259</td> <td>    0.710</td>\n",
       "</tr>\n",
       "<tr>\n",
       "  <th>Genre_Comedy</th>           <td>    0.1451</td> <td>    0.035</td> <td>    4.180</td> <td> 0.000</td> <td>    0.077</td> <td>    0.213</td>\n",
       "</tr>\n",
       "<tr>\n",
       "  <th>Genre_Crime</th>            <td>    0.2332</td> <td>    0.067</td> <td>    3.466</td> <td> 0.001</td> <td>    0.101</td> <td>    0.365</td>\n",
       "</tr>\n",
       "<tr>\n",
       "  <th>Genre_Documentary</th>      <td>    0.4120</td> <td>    0.072</td> <td>    5.722</td> <td> 0.000</td> <td>    0.271</td> <td>    0.553</td>\n",
       "</tr>\n",
       "<tr>\n",
       "  <th>Genre_Drama</th>            <td>    0.3438</td> <td>    0.036</td> <td>    9.566</td> <td> 0.000</td> <td>    0.273</td> <td>    0.414</td>\n",
       "</tr>\n",
       "<tr>\n",
       "  <th>Genre_Family</th>           <td>    0.4847</td> <td>    0.275</td> <td>    1.764</td> <td> 0.078</td> <td>   -0.054</td> <td>    1.023</td>\n",
       "</tr>\n",
       "<tr>\n",
       "  <th>Genre_Music</th>            <td>    0.8894</td> <td>    0.418</td> <td>    2.126</td> <td> 0.034</td> <td>    0.069</td> <td>    1.710</td>\n",
       "</tr>\n",
       "<tr>\n",
       "  <th>Genre_Thriller</th>         <td>    0.5730</td> <td>    0.245</td> <td>    2.336</td> <td> 0.020</td> <td>    0.092</td> <td>    1.054</td>\n",
       "</tr>\n",
       "<tr>\n",
       "  <th>Sub_Genre_Animation</th>    <td>    0.2691</td> <td>    0.127</td> <td>    2.124</td> <td> 0.034</td> <td>    0.021</td> <td>    0.518</td>\n",
       "</tr>\n",
       "<tr>\n",
       "  <th>Sub_Genre_Comedy</th>       <td>   -0.1643</td> <td>    0.056</td> <td>   -2.954</td> <td> 0.003</td> <td>   -0.273</td> <td>   -0.055</td>\n",
       "</tr>\n",
       "<tr>\n",
       "  <th>Sub_Genre_Family</th>       <td>   -0.1601</td> <td>    0.060</td> <td>   -2.668</td> <td> 0.008</td> <td>   -0.278</td> <td>   -0.042</td>\n",
       "</tr>\n",
       "<tr>\n",
       "  <th>Sub_Genre_Fantasy</th>      <td>   -0.3072</td> <td>    0.094</td> <td>   -3.276</td> <td> 0.001</td> <td>   -0.491</td> <td>   -0.123</td>\n",
       "</tr>\n",
       "<tr>\n",
       "  <th>Sub_Genre_Horror</th>       <td>   -0.3394</td> <td>    0.082</td> <td>   -4.136</td> <td> 0.000</td> <td>   -0.500</td> <td>   -0.178</td>\n",
       "</tr>\n",
       "<tr>\n",
       "  <th>Sub_Genre_No Sub-genre</th> <td>   -0.1298</td> <td>    0.044</td> <td>   -2.965</td> <td> 0.003</td> <td>   -0.216</td> <td>   -0.044</td>\n",
       "</tr>\n",
       "<tr>\n",
       "  <th>Sub_Genre_Romance</th>      <td>   -0.2277</td> <td>    0.051</td> <td>   -4.502</td> <td> 0.000</td> <td>   -0.327</td> <td>   -0.129</td>\n",
       "</tr>\n",
       "</table>\n",
       "<table class=\"simpletable\">\n",
       "<tr>\n",
       "  <th>Omnibus:</th>       <td>215.524</td> <th>  Durbin-Watson:     </th> <td>   2.023</td>\n",
       "</tr>\n",
       "<tr>\n",
       "  <th>Prob(Omnibus):</th> <td> 0.000</td>  <th>  Jarque-Bera (JB):  </th> <td> 261.416</td>\n",
       "</tr>\n",
       "<tr>\n",
       "  <th>Skew:</th>          <td>-0.638</td>  <th>  Prob(JB):          </th> <td>1.72e-57</td>\n",
       "</tr>\n",
       "<tr>\n",
       "  <th>Kurtosis:</th>      <td> 3.507</td>  <th>  Cond. No.          </th> <td>3.69e+03</td>\n",
       "</tr>\n",
       "</table>"
      ],
      "text/plain": [
       "<class 'statsmodels.iolib.summary.Summary'>\n",
       "\"\"\"\n",
       "                            OLS Regression Results                            \n",
       "==============================================================================\n",
       "Dep. Variable:             Star_Score   R-squared:                       0.939\n",
       "Model:                            OLS   Adj. R-squared:                  0.938\n",
       "Method:                 Least Squares   F-statistic:                     2812.\n",
       "Date:                Sun, 08 Oct 2017   Prob (F-statistic):               0.00\n",
       "Time:                        22:10:23   Log-Likelihood:                -3618.6\n",
       "No. Observations:                3324   AIC:                             7273.\n",
       "Df Residuals:                    3306   BIC:                             7383.\n",
       "Df Model:                          18                                         \n",
       "Covariance Type:            nonrobust                                         \n",
       "==========================================================================================\n",
       "                             coef    std err          t      P>|t|      [0.025      0.975]\n",
       "------------------------------------------------------------------------------------------\n",
       "Runtime                    0.0023      0.001      3.992      0.000       0.001       0.003\n",
       "MovieLens_Score            0.3710      0.047      7.848      0.000       0.278       0.464\n",
       "Imdb_Score                 0.1843      0.024      7.593      0.000       0.137       0.232\n",
       "Genre_Animation            0.4843      0.115      4.212      0.000       0.259       0.710\n",
       "Genre_Comedy               0.1451      0.035      4.180      0.000       0.077       0.213\n",
       "Genre_Crime                0.2332      0.067      3.466      0.001       0.101       0.365\n",
       "Genre_Documentary          0.4120      0.072      5.722      0.000       0.271       0.553\n",
       "Genre_Drama                0.3438      0.036      9.566      0.000       0.273       0.414\n",
       "Genre_Family               0.4847      0.275      1.764      0.078      -0.054       1.023\n",
       "Genre_Music                0.8894      0.418      2.126      0.034       0.069       1.710\n",
       "Genre_Thriller             0.5730      0.245      2.336      0.020       0.092       1.054\n",
       "Sub_Genre_Animation        0.2691      0.127      2.124      0.034       0.021       0.518\n",
       "Sub_Genre_Comedy          -0.1643      0.056     -2.954      0.003      -0.273      -0.055\n",
       "Sub_Genre_Family          -0.1601      0.060     -2.668      0.008      -0.278      -0.042\n",
       "Sub_Genre_Fantasy         -0.3072      0.094     -3.276      0.001      -0.491      -0.123\n",
       "Sub_Genre_Horror          -0.3394      0.082     -4.136      0.000      -0.500      -0.178\n",
       "Sub_Genre_No Sub-genre    -0.1298      0.044     -2.965      0.003      -0.216      -0.044\n",
       "Sub_Genre_Romance         -0.2277      0.051     -4.502      0.000      -0.327      -0.129\n",
       "==============================================================================\n",
       "Omnibus:                      215.524   Durbin-Watson:                   2.023\n",
       "Prob(Omnibus):                  0.000   Jarque-Bera (JB):              261.416\n",
       "Skew:                          -0.638   Prob(JB):                     1.72e-57\n",
       "Kurtosis:                       3.507   Cond. No.                     3.69e+03\n",
       "==============================================================================\n",
       "\n",
       "Warnings:\n",
       "[1] Standard Errors assume that the covariance matrix of the errors is correctly specified.\n",
       "[2] The condition number is large, 3.69e+03. This might indicate that there are\n",
       "strong multicollinearity or other numerical problems.\n",
       "\"\"\""
      ]
     },
     "execution_count": 30,
     "metadata": {},
     "output_type": "execute_result"
    }
   ],
   "source": [
    "X_1 = X_train[[\n",
    "    'Runtime',\n",
    "    'MovieLens_Score',\n",
    "    'Imdb_Score',\n",
    "    'Genre_Animation',\n",
    "    'Genre_Comedy',\n",
    "    'Genre_Crime',\n",
    "    'Genre_Documentary',\n",
    "    'Genre_Drama',\n",
    "    'Genre_Family',\n",
    "    'Genre_Music',\n",
    "    'Genre_Thriller',\n",
    "    'Sub_Genre_Animation',\n",
    "    'Sub_Genre_Comedy',\n",
    "    'Sub_Genre_Family',\n",
    "    'Sub_Genre_Fantasy',\n",
    "    'Sub_Genre_Horror',\n",
    "    'Sub_Genre_No Sub-genre',\n",
    "    'Sub_Genre_Romance'\n",
    "]]\n",
    "model = sm.OLS(y_train, X_1)\n",
    "model_fit = model.fit()\n",
    "model_fit.summary()"
   ]
  },
  {
   "cell_type": "markdown",
   "metadata": {},
   "source": [
    "I couldn't just rely on the adjusted R-squared value for measuring my model. I also need to look at the distribution of residuals to make sure the model is capturing all trends across the whole set of training data. A normal distribution of the model's residuals indicates this."
   ]
  },
  {
   "cell_type": "code",
   "execution_count": 24,
   "metadata": {},
   "outputs": [
    {
     "data": {
      "image/png": "[encoded data removed]",
      "text/plain": [
       "<matplotlib.figure.Figure at 0x112c60320>"
      ]
     },
     "metadata": {},
     "output_type": "display_data"
    }
   ],
   "source": [
    "plt.hist(model_fit.resid)\n",
    "plt.title('Distribution of Star Score Residuals (Train)', fontsize=18)\n",
    "plt.xlabel('Star Score Residuals', fontsize=12)\n",
    "plt.ylabel('Distribution', fontsize=12);"
   ]
  },
  {
   "cell_type": "markdown",
   "metadata": {},
   "source": [
    "To see if the model is performing consistently across the whole set of data, I'll use cross validation."
   ]
  },
  {
   "cell_type": "code",
   "execution_count": 25,
   "metadata": {},
   "outputs": [
    {
     "data": {
      "text/plain": [
       "0.71815221525694273"
      ]
     },
     "execution_count": 25,
     "metadata": {},
     "output_type": "execute_result"
    }
   ],
   "source": [
    "# in-sample\n",
    "in_lr = linear_model.LinearRegression()\n",
    "in_lr.fit(X_1, y_train)\n",
    "y_pred_in = in_lr.predict(X_1)\n",
    "np.sqrt(mean_squared_error(y_train, y_pred_in))"
   ]
  },
  {
   "cell_type": "code",
   "execution_count": 26,
   "metadata": {},
   "outputs": [
    {
     "data": {
      "text/plain": [
       "0.72441388004974472"
      ]
     },
     "execution_count": 26,
     "metadata": {},
     "output_type": "execute_result"
    }
   ],
   "source": [
    "# out-of-sample\n",
    "out_lr = linear_model.LinearRegression()\n",
    "out_scores = cross_val_score(out_lr, X_1, y_train, scoring='neg_mean_squared_error', cv = 5) * -1\n",
    "np.sqrt(out_scores.mean())"
   ]
  },
  {
   "cell_type": "markdown",
   "metadata": {},
   "source": [
    "I get a slightly higher root mean squared error on the out-of-sample data than the in-sample data. This means that the model generalizes the data well. I am now ready to test the model on the test set."
   ]
  },
  {
   "cell_type": "code",
   "execution_count": 27,
   "metadata": {},
   "outputs": [
    {
     "data": {
      "text/plain": [
       "0.73900275393744597"
      ]
     },
     "execution_count": 27,
     "metadata": {},
     "output_type": "execute_result"
    }
   ],
   "source": [
    "X_test_final = X_test[[\n",
    "    'Runtime',\n",
    "    'MovieLens_Score',\n",
    "    'Imdb_Score',\n",
    "    'Genre_Animation',\n",
    "    'Genre_Comedy',\n",
    "    'Genre_Crime',\n",
    "    'Genre_Documentary',\n",
    "    'Genre_Drama',\n",
    "    'Genre_Family',\n",
    "    'Genre_Music',\n",
    "    'Genre_Thriller',\n",
    "    'Sub_Genre_Animation',\n",
    "    'Sub_Genre_Comedy',\n",
    "    'Sub_Genre_Family',\n",
    "    'Sub_Genre_Fantasy',\n",
    "    'Sub_Genre_Horror',\n",
    "    'Sub_Genre_No Sub-genre',\n",
    "    'Sub_Genre_Romance'\n",
    "]]\n",
    "y_pred_test = model_fit.predict(X_test_final)\n",
    "np.sqrt(mean_squared_error(y_test, y_pred_test))"
   ]
  },
  {
   "cell_type": "markdown",
   "metadata": {},
   "source": [
    "I get a final root mean squared error of 0.73, meaning my model's predictions are off by slightly more than a half star rating. Looking at the model visualization, this model loses some accuracy as Ebert's rating decreases. Even at the higher ratings, the model does not perform terribly, but it could definately be improved."
   ]
  },
  {
   "cell_type": "code",
   "execution_count": 28,
   "metadata": {},
   "outputs": [
    {
     "data": {
      "image/png": "[encoded data removed]",
      "text/plain": [
       "<matplotlib.figure.Figure at 0x117300e80>"
      ]
     },
     "metadata": {},
     "output_type": "display_data"
    }
   ],
   "source": [
    "plt.figure(figsize=(5,5))\n",
    "plt.scatter(y_pred_test, y_test, alpha=0.2)\n",
    "plt.plot([0,4], [0,4], 'r')\n",
    "plt.title('Roger Ebert Scores vs. Predicted Scores', fontsize=14)\n",
    "plt.xlabel('Predicted Star Score', fontsize=12)\n",
    "plt.ylabel('Roger Ebert Star Score', fontsize=12);"
   ]
  },
  {
   "cell_type": "markdown",
   "metadata": {},
   "source": [
    "Now that the model is finished, I get some recent movies and plug their values into the model to get a predicted rating out of four stars."
   ]
  },
  {
   "cell_type": "code",
   "execution_count": 29,
   "metadata": {},
   "outputs": [
    {
     "name": "stdout",
     "output_type": "stream",
     "text": [
      "Dunkirk: 3.60695422058\n",
      "The Emoji Movie: 1.31972335311\n",
      "La La Land: 3.12637559205\n",
      "Mad Max Fury Road: 3.75669926337\n"
     ]
    }
   ],
   "source": [
    "Dunkirk = np.array([106,3.98,8.4,0,0,0,0,1,0,0,0,0,0,0,0,0,0,0])\n",
    "Emoji_Movie = np.array([86,1.08,2.2,1,0,0,0,0,0,0,0,0,1,0,0,0,0,0])\n",
    "La_La_Land = np.array([128,3.80,8.2,0,1,0,0,0,0,0,0,0,0,0,0,0,0,1])\n",
    "Mad_Max_Fury_Road = np.array([120,3.83,8.1,0,0,0,0,0,0,0,1,0,0,0,0,0,0,0])\n",
    "print('Dunkirk:', model_fit.predict(Dunkirk)[0])\n",
    "print('The Emoji Movie:', model_fit.predict(Emoji_Movie)[0])\n",
    "print('La La Land:', model_fit.predict(La_La_Land)[0])\n",
    "print('Mad Max Fury Road:', model_fit.predict(Mad_Max_Fury_Road)[0])"
   ]
  }
 ],
 "metadata": {
  "kernelspec": {
   "display_name": "Python [default]",
   "language": "python",
   "name": "python3"
  },
  "language_info": {
   "codemirror_mode": {
    "name": "ipython",
    "version": 3
   },
   "file_extension": ".py",
   "mimetype": "text/x-python",
   "name": "python",
   "nbconvert_exporter": "python",
   "pygments_lexer": "ipython3",
   "version": "3.6.2"
  }
 },
 "nbformat": 4,
 "nbformat_minor": 2
}
