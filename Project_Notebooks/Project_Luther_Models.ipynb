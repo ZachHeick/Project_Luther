{
 "cells": [
  {
   "cell_type": "code",
   "execution_count": null,
   "metadata": {},
   "outputs": [],
   "source": [
    "import pickle\n",
    "import pandas as pd\n",
    "import numpy as np\n",
    "import matplotlib.pyplot as plt\n",
    "import seaborn as sns\n",
    "import patsy\n",
    "import math\n",
    "import statsmodels.api as sm\n",
    "from sklearn import linear_model\n",
    "from sklearn.model_selection import train_test_split, GridSearchCV\n",
    "from sklearn.linear_model import Ridge, Lasso\n",
    "from sklearn.cross_validation import cross_val_score\n",
    "from sklearn.linear_model import LinearRegression\n",
    "from sklearn.metrics import mean_squared_error, mean_absolute_error, r2_score\n",
    "from sklearn.pipeline import make_pipeline\n",
    "from sklearn.preprocessing import StandardScaler\n",
    "\n",
    "%matplotlib inline"
   ]
  },
  {
   "cell_type": "code",
   "execution_count": 1,
   "metadata": {},
   "outputs": [
    {
     "ename": "NameError",
     "evalue": "name 'pd' is not defined",
     "output_type": "error",
     "traceback": [
      "\u001b[0;31m---------------------------------------------------------------------------\u001b[0m",
      "\u001b[0;31mNameError\u001b[0m                                 Traceback (most recent call last)",
      "\u001b[0;32m<ipython-input-1-f22dfd5d7812>\u001b[0m in \u001b[0;36m<module>\u001b[0;34m()\u001b[0m\n\u001b[0;32m----> 1\u001b[0;31m \u001b[0mdf\u001b[0m \u001b[0;34m=\u001b[0m \u001b[0mpd\u001b[0m\u001b[0;34m.\u001b[0m\u001b[0mread_pickle\u001b[0m\u001b[0;34m(\u001b[0m\u001b[0;34m'/Users/zacharyheick/ds/metis/metisgh/Project_Luther/roger_final_model_ready.pickle'\u001b[0m\u001b[0;34m)\u001b[0m\u001b[0;34m\u001b[0m\u001b[0m\n\u001b[0m",
      "\u001b[0;31mNameError\u001b[0m: name 'pd' is not defined"
     ]
    }
   ],
   "source": [
    "df = pd.read_pickle('/Users/zacharyheick/ds/metis/metisgh/Project_Luther/roger_final_model_ready.pickle')"
   ]
  },
  {
   "cell_type": "markdown",
   "metadata": {},
   "source": [
    "Before I began modeling, I split the data up into training and test sets. "
   ]
  },
  {
   "cell_type": "code",
   "execution_count": null,
   "metadata": {
    "collapsed": true
   },
   "outputs": [],
   "source": [
    "X = df.drop('Star_Score', axis=1)\n",
    "y = df['Star_Score']\n",
    "\n",
    "X_train, X_test, y_train, y_test = train_test_split(X, y, test_size=0.3, random_state=22)"
   ]
  },
  {
   "cell_type": "markdown",
   "metadata": {},
   "source": [
    "The features I start with are `MovieLens_Score` and `Imdb_Score`. I slowly add features that have either stronger positively correlation or stronger negatively correlation until I was I get to an Adjusted R-squared value that is best."
   ]
  },
  {
   "cell_type": "code",
   "execution_count": null,
   "metadata": {},
   "outputs": [],
   "source": [
    "X_1 = X_train[[\n",
    "    'Runtime',\n",
    "    'MovieLens_Score',\n",
    "    'Imdb_Score',\n",
    "    'Genre_Animation',\n",
    "    'Genre_Comedy',\n",
    "    'Genre_Crime',\n",
    "    'Genre_Documentary',\n",
    "    'Genre_Drama',\n",
    "    'Genre_Family',\n",
    "    'Genre_Music',\n",
    "    'Genre_Thriller',\n",
    "    'Sub_Genre_Animation',\n",
    "    'Sub_Genre_Comedy',\n",
    "    'Sub_Genre_Family',\n",
    "    'Sub_Genre_Fantasy',\n",
    "    'Sub_Genre_Horror',\n",
    "    'Sub_Genre_No Sub-genre',\n",
    "    'Sub_Genre_Romance'\n",
    "]]\n",
    "model = sm.OLS(y_train, X_1)\n",
    "model_fit = model.fit()\n",
    "model_fit.summary()"
   ]
  },
  {
   "cell_type": "markdown",
   "metadata": {},
   "source": [
    "I couldn't just rely on the adjusted R-squared value for measuring my model. I also need to look at the distribution of residuals to make sure the model is capturing all trends across the whole set of training data. A normal distribution of the model's residuals indicates this."
   ]
  },
  {
   "cell_type": "code",
   "execution_count": null,
   "metadata": {},
   "outputs": [],
   "source": [
    "plt.hist(model_fit.resid)\n",
    "plt.title('Distribution of Star Score Residuals (Train)', fontsize=18)\n",
    "plt.xlabel('Star Score Residuals', fontsize=12)\n",
    "plt.ylabel('Distribution', fontsize=12);"
   ]
  },
  {
   "cell_type": "markdown",
   "metadata": {},
   "source": [
    "To see if the model is performing consistently across the whole set of data, I'll use cross validation."
   ]
  },
  {
   "cell_type": "code",
   "execution_count": null,
   "metadata": {},
   "outputs": [],
   "source": [
    "# in-sample\n",
    "in_lr = linear_model.LinearRegression()\n",
    "in_lr.fit(X_1, y_train)\n",
    "y_pred_in = in_lr.predict(X_1)\n",
    "np.sqrt(mean_squared_error(y_train, y_pred_in))"
   ]
  },
  {
   "cell_type": "code",
   "execution_count": null,
   "metadata": {},
   "outputs": [],
   "source": [
    "# out-of-sample\n",
    "out_lr = linear_model.LinearRegression()\n",
    "out_scores = cross_val_score(out_lr, X_1, y_train, scoring='neg_mean_squared_error', cv = 5) * -1\n",
    "np.sqrt(out_scores.mean())"
   ]
  },
  {
   "cell_type": "markdown",
   "metadata": {},
   "source": [
    "I get a slightly higher root mean squared error on the out-of-sample data than the in-sample data. This means that the model generalizes the data well. I am now ready to test the model on the test set."
   ]
  },
  {
   "cell_type": "code",
   "execution_count": null,
   "metadata": {},
   "outputs": [],
   "source": [
    "X_test_final = X_test[[\n",
    "    'Runtime',\n",
    "    'MovieLens_Score',\n",
    "    'Imdb_Score',\n",
    "    'Genre_Animation',\n",
    "    'Genre_Comedy',\n",
    "    'Genre_Crime',\n",
    "    'Genre_Documentary',\n",
    "    'Genre_Drama',\n",
    "    'Genre_Family',\n",
    "    'Genre_Music',\n",
    "    'Genre_Thriller',\n",
    "    'Sub_Genre_Animation',\n",
    "    'Sub_Genre_Comedy',\n",
    "    'Sub_Genre_Family',\n",
    "    'Sub_Genre_Fantasy',\n",
    "    'Sub_Genre_Horror',\n",
    "    'Sub_Genre_No Sub-genre',\n",
    "    'Sub_Genre_Romance'\n",
    "]]\n",
    "y_pred_test = model_fit.predict(X_test_final)\n",
    "np.sqrt(mean_squared_error(y_test, y_pred_test))"
   ]
  },
  {
   "cell_type": "markdown",
   "metadata": {},
   "source": [
    "I get a final root mean squared error of 0.73, meaning my model's predictions are off by slightly more than a half star rating. Looking at the model visualization, this model loses some accuracy as Ebert's rating decreases. Even at the higher ratings, the model does not perform terribly, but it could definately be improved."
   ]
  },
  {
   "cell_type": "code",
   "execution_count": null,
   "metadata": {},
   "outputs": [],
   "source": [
    "plt.figure(figsize=(5,5))\n",
    "plt.scatter(y_pred_test, y_test, alpha=0.2)\n",
    "plt.plot([0,4], [0,4], 'r')\n",
    "plt.title('Roger Ebert Scores vs. Predicted Scores', fontsize=14)\n",
    "plt.xlabel('Predicted Star Score', fontsize=12)\n",
    "plt.ylabel('Roger Ebert Star Score', fontsize=12);"
   ]
  },
  {
   "cell_type": "markdown",
   "metadata": {},
   "source": [
    "Now that the model is ready, I found some recent movies and plugged their values into the model to get a predicted rating out of four stars."
   ]
  },
  {
   "cell_type": "code",
   "execution_count": null,
   "metadata": {},
   "outputs": [],
   "source": [
    "Dunkirk = np.array([106,3.98,8.4,0,0,0,0,1,0,0,0,0,0,0,0,0,0,0])\n",
    "Emoji_Movie = np.array([86,1.08,2.2,1,0,0,0,0,0,0,0,0,1,0,0,0,0,0])\n",
    "La_La_Land = np.array([128,3.80,8.2,0,1,0,0,0,0,0,0,0,0,0,0,0,0,1])\n",
    "Mad_Max_Fury_Road = np.array([120,3.83,8.1,0,0,0,0,0,0,0,1,0,0,0,0,0,0,0])\n",
    "print('Dunkirk:', model_fit.predict(Dunkirk)[0])\n",
    "print('The Emoji Movie:', model_fit.predict(Emoji_Movie)[0])\n",
    "print('La La Land:', model_fit.predict(La_La_Land)[0])\n",
    "print('Mad Max Fury Road:', model_fit.predict(Mad_Max_Fury_Road)[0])"
   ]
  }
 ],
 "metadata": {
  "kernelspec": {
   "display_name": "Python [default]",
   "language": "python",
   "name": "python3"
  },
  "language_info": {
   "codemirror_mode": {
    "name": "ipython",
    "version": 3
   },
   "file_extension": ".py",
   "mimetype": "text/x-python",
   "name": "python",
   "nbconvert_exporter": "python",
   "pygments_lexer": "ipython3",
   "version": "3.6.2"
  }
 },
 "nbformat": 4,
 "nbformat_minor": 2
}
