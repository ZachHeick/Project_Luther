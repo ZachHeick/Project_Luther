{
 "cells": [
  {
   "cell_type": "markdown",
   "metadata": {},
   "source": [
    "Topic: Project 2    \n",
    "Subject: Scraping Roger Ebert's Reviews  \n",
    "Date: 10/06/2017  \n",
    "Name: Zach Heick"
   ]
  },
  {
   "cell_type": "code",
   "execution_count": 1,
   "metadata": {
    "collapsed": true
   },
   "outputs": [],
   "source": [
    "import requests\n",
    "import pandas as pd\n",
    "import numpy as np\n",
    "import time\n",
    "import os\n",
    "import pickle\n",
    "import random\n",
    "from bs4 import BeautifulSoup\n",
    "from pprint import pprint\n",
    "from selenium import webdriver\n",
    "from selenium.webdriver.common.keys import Keys\n",
    "from selenium.webdriver.support.ui import Select\n",
    "from collections import OrderedDict"
   ]
  },
  {
   "cell_type": "code",
   "execution_count": null,
   "metadata": {
    "collapsed": true
   },
   "outputs": [],
   "source": [
    "chromedriver = '/Applications/chromedriver'\n",
    "os.environ['webdriver.chrome.driver'] = chromedriver\n",
    "driver = webdriver.Chrome(chromedriver)"
   ]
  },
  {
   "cell_type": "code",
   "execution_count": null,
   "metadata": {
    "collapsed": true
   },
   "outputs": [],
   "source": [
    "url = 'http://www.rogerebert.com/reviews'\n",
    "driver.get(url)"
   ]
  },
  {
   "cell_type": "markdown",
   "metadata": {},
   "source": [
    "I use Selenium to filter out movies reviewed by Roger Ebert."
   ]
  },
  {
   "cell_type": "code",
   "execution_count": null,
   "metadata": {
    "collapsed": true
   },
   "outputs": [],
   "source": [
    "reviewer_form = driver.find_element_by_class_name('search-field').click()\n",
    "reviewer_list = driver.find_element_by_class_name('chosen-results')\n",
    "for review in driver.find_elements_by_tag_name('li'):\n",
    "    if review.text == 'Roger Ebert':\n",
    "        review.click()\n",
    "        break\n",
    "        \n",
    "check_box = driver.find_element_by_id('no_stars').click()"
   ]
  },
  {
   "cell_type": "markdown",
   "metadata": {},
   "source": [
    "The tricky part about scraping Ebert's website is that it has \"infinite scrolling\". The only way to view more of his movie reviews is to scroll down. Before I could even scrape anything, I want to scroll to the bottom of the page to have all movie titles on one page. Selenium has a nice way to automate scrolling."
   ]
  },
  {
   "cell_type": "code",
   "execution_count": null,
   "metadata": {
    "collapsed": true
   },
   "outputs": [],
   "source": [
    "last_height = driver.execute_script(\"return document.body.scrollHeight\")\n",
    "\n",
    "while True:\n",
    "    # Scroll down to bottom\n",
    "    driver.execute_script(\"window.scrollTo(0, document.body.scrollHeight);\")\n",
    "\n",
    "    #Let the page load\n",
    "    time.sleep(3)\n",
    "\n",
    "    # Calculate new scroll height and compare with last scroll height\n",
    "    new_height = driver.execute_script(\"return document.body.scrollHeight\")\n",
    "    if new_height == last_height:\n",
    "        break\n",
    "    last_height = new_height"
   ]
  },
  {
   "cell_type": "code",
   "execution_count": null,
   "metadata": {
    "collapsed": true
   },
   "outputs": [],
   "source": [
    "soup = BeautifulSoup(driver.page_source, 'html.parser')"
   ]
  },
  {
   "cell_type": "markdown",
   "metadata": {},
   "source": [
    "Once I've scrolled to the bottom of the page, I can now scrape each individual movie title."
   ]
  },
  {
   "cell_type": "code",
   "execution_count": null,
   "metadata": {
    "collapsed": true
   },
   "outputs": [],
   "source": [
    "def get_movie_details(movie_url):\n",
    "    \"\"\"\n",
    "    Gets data from movie review page from rogertebert.com.\n",
    "    :param movie_url: url for movie review\n",
    "    :return: movie's genre, subgenre, mpaa rating, and runtime\n",
    "    \"\"\"\n",
    "    sleep_interval = random.randint(0,1)\n",
    "    time.sleep(sleep_interval)\n",
    "    url = 'http://www.rogerebert.com' + movie_url\n",
    "    response = requests.get(url)\n",
    "    page = response.text\n",
    "    soup = BeautifulSoup(page,'html5lib')\n",
    "    \n",
    "    details_d = OrderedDict()\n",
    "    details_d['genre'] = ''\n",
    "    details_d['sub-genre'] = ''\n",
    "    details_d['mpaa-rating'] = ''\n",
    "    details_d['running-time'] = ''\n",
    "    \n",
    "    movie_details = []\n",
    "    for detail in soup.find(class_='more-details').findChildren('p'):\n",
    "\n",
    "        detail_class = detail['class'][0]\n",
    "        detail_text = [item for item in detail.text.split('\\n') if item != '']\n",
    "        \n",
    "        if detail_class == 'genres':\n",
    "            genres = detail_text[0].split(', ')\n",
    "            details_d['genre'] = genres[0]\n",
    "            if len(genres) > 1:\n",
    "                details_d['sub-genre'] = genres[1]\n",
    "        if detail_class == 'mpaa-rating':\n",
    "            details_d[detail_class] = detail_text[0].split(' ')[1]\n",
    "        if detail_class == 'running-time':\n",
    "            details_d[detail_class] = int(detail_text[0].split(' ')[0])\n",
    "    \n",
    "    genre = details_d['genre']\n",
    "    sub_genre = details_d['sub-genre']\n",
    "    mpaa_rating = details_d['mpaa-rating']\n",
    "    running_time = details_d['running-time']\n",
    "    \n",
    "    return genre, sub_genre, mpaa_rating, running_time"
   ]
  },
  {
   "cell_type": "markdown",
   "metadata": {},
   "source": [
    "Roger Ebert's rating scale ranges from zero to four stars, incrementing in halves."
   ]
  },
  {
   "cell_type": "code",
   "execution_count": null,
   "metadata": {
    "collapsed": true
   },
   "outputs": [],
   "source": [
    "def calculate_numeric_rating(star_ratings):\n",
    "    \"\"\"\n",
    "    Converts images of stars as scores to numeric value.\n",
    "    :param star_ratings: list of star rating strings\n",
    "    :return: numberic star score value\n",
    "    \"\"\"\n",
    "    rating_conversion = {\n",
    "        'icon-star-full': 1,\n",
    "        'icon-star-half': 0.5,\n",
    "        'icon-thumbsdown': 0\n",
    "    }\n",
    "    \n",
    "    numeric_rating = []\n",
    "    for star in star_ratings:\n",
    "        numeric_rating.append(rating_conversion[star])\n",
    "    \n",
    "    return sum(numeric_rating)"
   ]
  },
  {
   "cell_type": "markdown",
   "metadata": {},
   "source": [
    "With some helper functions defined, I iterate through each movie review listed on the long page that was previously scrolled from earlier. I store each row as a tuple in a list `reviews`."
   ]
  },
  {
   "cell_type": "code",
   "execution_count": null,
   "metadata": {
    "collapsed": true
   },
   "outputs": [],
   "source": [
    "reviews = []\n",
    "for review in soup.find_all(class_='movie review'):\n",
    "    movie_info = [item for item in review.text.split('\\n') if item != '']\n",
    "\n",
    "    if len(movie_info) == 2:\n",
    "        movie_info.append('')\n",
    "\n",
    "    movie_title = movie_info[0]\n",
    "    movie_year = movie_info[2]\n",
    "\n",
    "    if movie_year != '':\n",
    "        movie_year = int(movie_year.replace('(', '').replace(')', ''))\n",
    "\n",
    "    rating = review.find(class_='star-rating').findChildren()\n",
    "    star_ratings = [rate['class'][0] for rate in rating]  \n",
    "    numeric_rating = calculate_numeric_rating(star_ratings)\n",
    "\n",
    "    review_link = review.find('a', class_='poster')['href']  \n",
    "    genre, sub_genre, mpaa_rating, running_time = get_movie_details(review_link)\n",
    "\n",
    "    movie = (movie_title, movie_year, numeric_rating, genre, sub_genre, mpaa_rating, running_time)\n",
    "\n",
    "    reviews.append(movie) "
   ]
  },
  {
   "cell_type": "code",
   "execution_count": null,
   "metadata": {
    "collapsed": true
   },
   "outputs": [],
   "source": [
    "df = pd.DataFrame(reviews, columns=['Title', 'Year', 'Star_Score', 'Genre', 'Sub-genre', 'Rating', 'Runtime'])"
   ]
  },
  {
   "cell_type": "code",
   "execution_count": 3,
   "metadata": {},
   "outputs": [
    {
     "data": {
      "text/html": [
       "<div>\n",
       "<style>\n",
       "    .dataframe thead tr:only-child th {\n",
       "        text-align: right;\n",
       "    }\n",
       "\n",
       "    .dataframe thead th {\n",
       "        text-align: left;\n",
       "    }\n",
       "\n",
       "    .dataframe tbody tr th {\n",
       "        vertical-align: top;\n",
       "    }\n",
       "</style>\n",
       "<table border=\"1\" class=\"dataframe\">\n",
       "  <thead>\n",
       "    <tr style=\"text-align: right;\">\n",
       "      <th></th>\n",
       "      <th>Title</th>\n",
       "      <th>Year</th>\n",
       "      <th>Star_Score</th>\n",
       "      <th>Genre</th>\n",
       "      <th>Sub-genre</th>\n",
       "      <th>Rating</th>\n",
       "      <th>Runtime</th>\n",
       "    </tr>\n",
       "  </thead>\n",
       "  <tbody>\n",
       "    <tr>\n",
       "      <th>0</th>\n",
       "      <td>The Spectacular Now</td>\n",
       "      <td>2013</td>\n",
       "      <td>4.0</td>\n",
       "      <td></td>\n",
       "      <td></td>\n",
       "      <td>R</td>\n",
       "      <td>99</td>\n",
       "    </tr>\n",
       "    <tr>\n",
       "      <th>1</th>\n",
       "      <td>Computer Chess</td>\n",
       "      <td>2013</td>\n",
       "      <td>2.0</td>\n",
       "      <td>Comedy</td>\n",
       "      <td></td>\n",
       "      <td></td>\n",
       "      <td>91</td>\n",
       "    </tr>\n",
       "    <tr>\n",
       "      <th>2</th>\n",
       "      <td>At Any Price</td>\n",
       "      <td>2012</td>\n",
       "      <td>4.0</td>\n",
       "      <td>Drama</td>\n",
       "      <td></td>\n",
       "      <td>R</td>\n",
       "      <td>105</td>\n",
       "    </tr>\n",
       "    <tr>\n",
       "      <th>3</th>\n",
       "      <td>Blancanieves</td>\n",
       "      <td>2012</td>\n",
       "      <td>4.0</td>\n",
       "      <td>Drama</td>\n",
       "      <td>Fantasy</td>\n",
       "      <td>PG-13</td>\n",
       "      <td>104</td>\n",
       "    </tr>\n",
       "    <tr>\n",
       "      <th>4</th>\n",
       "      <td>Deceptive Practice: The Mysteries and Mentors ...</td>\n",
       "      <td>2013</td>\n",
       "      <td>3.0</td>\n",
       "      <td></td>\n",
       "      <td></td>\n",
       "      <td>NR</td>\n",
       "      <td>88</td>\n",
       "    </tr>\n",
       "    <tr>\n",
       "      <th>5</th>\n",
       "      <td>To the Wonder</td>\n",
       "      <td>2013</td>\n",
       "      <td>3.5</td>\n",
       "      <td>Drama</td>\n",
       "      <td>Romance</td>\n",
       "      <td>R</td>\n",
       "      <td>112</td>\n",
       "    </tr>\n",
       "    <tr>\n",
       "      <th>6</th>\n",
       "      <td>From Up on Poppy Hill</td>\n",
       "      <td>2013</td>\n",
       "      <td>2.5</td>\n",
       "      <td>Animation</td>\n",
       "      <td>Drama</td>\n",
       "      <td>PG</td>\n",
       "      <td>91</td>\n",
       "    </tr>\n",
       "    <tr>\n",
       "      <th>7</th>\n",
       "      <td>The Host</td>\n",
       "      <td>2013</td>\n",
       "      <td>2.5</td>\n",
       "      <td>Science Fiction</td>\n",
       "      <td>Thriller</td>\n",
       "      <td>PG-13</td>\n",
       "      <td>125</td>\n",
       "    </tr>\n",
       "    <tr>\n",
       "      <th>8</th>\n",
       "      <td>Ginger and Rosa</td>\n",
       "      <td>2013</td>\n",
       "      <td>3.0</td>\n",
       "      <td>Drama</td>\n",
       "      <td></td>\n",
       "      <td>PG-13</td>\n",
       "      <td>89</td>\n",
       "    </tr>\n",
       "    <tr>\n",
       "      <th>9</th>\n",
       "      <td>On the Road</td>\n",
       "      <td>2013</td>\n",
       "      <td>2.0</td>\n",
       "      <td>Adventure</td>\n",
       "      <td>Drama</td>\n",
       "      <td>R</td>\n",
       "      <td>137</td>\n",
       "    </tr>\n",
       "  </tbody>\n",
       "</table>\n",
       "</div>"
      ],
      "text/plain": [
       "                                               Title  Year  Star_Score  \\\n",
       "0                                The Spectacular Now  2013         4.0   \n",
       "1                                     Computer Chess  2013         2.0   \n",
       "2                                       At Any Price  2012         4.0   \n",
       "3                                       Blancanieves  2012         4.0   \n",
       "4  Deceptive Practice: The Mysteries and Mentors ...  2013         3.0   \n",
       "5                                      To the Wonder  2013         3.5   \n",
       "6                              From Up on Poppy Hill  2013         2.5   \n",
       "7                                           The Host  2013         2.5   \n",
       "8                                    Ginger and Rosa  2013         3.0   \n",
       "9                                        On the Road  2013         2.0   \n",
       "\n",
       "             Genre Sub-genre Rating Runtime  \n",
       "0                                 R      99  \n",
       "1           Comedy                       91  \n",
       "2            Drama                R     105  \n",
       "3            Drama   Fantasy  PG-13     104  \n",
       "4                                NR      88  \n",
       "5            Drama   Romance      R     112  \n",
       "6        Animation     Drama     PG      91  \n",
       "7  Science Fiction  Thriller  PG-13     125  \n",
       "8            Drama            PG-13      89  \n",
       "9        Adventure     Drama      R     137  "
      ]
     },
     "execution_count": 3,
     "metadata": {},
     "output_type": "execute_result"
    }
   ],
   "source": [
    "df.head(10)"
   ]
  },
  {
   "cell_type": "markdown",
   "metadata": {},
   "source": [
    "After all that scraping, I make sure to save the dataframe for future work by pickling. The data still needs to be cleaned!"
   ]
  },
  {
   "cell_type": "code",
   "execution_count": null,
   "metadata": {
    "collapsed": true
   },
   "outputs": [],
   "source": [
    "df.to_pickle('roger.pickle')"
   ]
  }
 ],
 "metadata": {
  "kernelspec": {
   "display_name": "Python [default]",
   "language": "python",
   "name": "python3"
  },
  "language_info": {
   "codemirror_mode": {
    "name": "ipython",
    "version": 3
   },
   "file_extension": ".py",
   "mimetype": "text/x-python",
   "name": "python",
   "nbconvert_exporter": "python",
   "pygments_lexer": "ipython3",
   "version": "3.6.2"
  }
 },
 "nbformat": 4,
 "nbformat_minor": 2
}
